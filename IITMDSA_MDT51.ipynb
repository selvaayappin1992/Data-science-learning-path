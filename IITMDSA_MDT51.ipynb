{
  "cells": [
    {
      "cell_type": "markdown",
      "metadata": {
        "id": "view-in-github",
        "colab_type": "text"
      },
      "source": [
        "<a href=\"https://colab.research.google.com/github/selvaayappin1992/Data-science-learning-path/blob/main/IITMDSA_MDT51.ipynb\" target=\"_parent\"><img src=\"https://colab.research.google.com/assets/colab-badge.svg\" alt=\"Open In Colab\"/></a>"
      ]
    },
    {
      "cell_type": "markdown",
      "source": [
        "# [Google Drive](https://drive.google.com/drive/folders/1NHhnn7pOeeyVHtrOZyieid13ms9eDOxC?usp=drive_link)\n"
      ],
      "metadata": {
        "id": "UZQ53espWHqI"
      },
      "id": "UZQ53espWHqI"
    },
    {
      "cell_type": "markdown",
      "source": [
        "# Module-1 Python Basics"
      ],
      "metadata": {
        "id": "0UJCfIa9XM3A"
      },
      "id": "0UJCfIa9XM3A"
    },
    {
      "cell_type": "markdown",
      "id": "6aab2a26",
      "metadata": {
        "id": "6aab2a26"
      },
      "source": [
        "## Variable"
      ]
    },
    {
      "cell_type": "code",
      "execution_count": null,
      "id": "ba64b8b6",
      "metadata": {
        "id": "ba64b8b6"
      },
      "outputs": [],
      "source": [
        "A=10\n",
        "B=\"Hello Guvi\"\n",
        "C=[1,2,3,4]"
      ]
    },
    {
      "cell_type": "code",
      "execution_count": null,
      "id": "f8c17849",
      "metadata": {
        "colab": {
          "base_uri": "https://localhost:8080/"
        },
        "id": "f8c17849",
        "outputId": "a67e52e9-d516-444d-eedd-47d40d459cb3"
      },
      "outputs": [
        {
          "output_type": "stream",
          "name": "stdout",
          "text": [
            "10\n"
          ]
        }
      ],
      "source": [
        "print(A)"
      ]
    },
    {
      "cell_type": "code",
      "execution_count": null,
      "id": "b22d2d5d",
      "metadata": {
        "id": "b22d2d5d"
      },
      "outputs": [],
      "source": [
        "user_name=\"Aravind\""
      ]
    },
    {
      "cell_type": "code",
      "execution_count": null,
      "id": "8851fac3",
      "metadata": {
        "id": "8851fac3"
      },
      "outputs": [],
      "source": [
        "user_1=\"Aravind\""
      ]
    },
    {
      "cell_type": "code",
      "execution_count": null,
      "id": "57ece54f",
      "metadata": {
        "id": "57ece54f"
      },
      "outputs": [],
      "source": [
        "User=\"Aravind\""
      ]
    },
    {
      "cell_type": "code",
      "execution_count": null,
      "id": "987442f2",
      "metadata": {
        "colab": {
          "base_uri": "https://localhost:8080/"
        },
        "id": "987442f2",
        "outputId": "38d962e5-065b-495a-e6e8-078b8105f020"
      },
      "outputs": [
        {
          "output_type": "stream",
          "name": "stdout",
          "text": [
            "40\n"
          ]
        }
      ],
      "source": [
        "A=10         #Axt123\n",
        "\n",
        "a=30         #Axt124\n",
        "\n",
        "\n",
        "print(A+a)"
      ]
    },
    {
      "cell_type": "code",
      "source": [],
      "metadata": {
        "id": "NYwnYTwvbgWj"
      },
      "id": "NYwnYTwvbgWj",
      "execution_count": null,
      "outputs": []
    },
    {
      "cell_type": "markdown",
      "id": "94a032f4",
      "metadata": {
        "id": "94a032f4"
      },
      "source": [
        "## Data Types"
      ]
    },
    {
      "cell_type": "code",
      "execution_count": null,
      "id": "466a151d",
      "metadata": {
        "id": "466a151d"
      },
      "outputs": [],
      "source": [
        "Name =\"Sai\"   # String\n",
        "Age= 25       # Int\n",
        "Height=5.6    # Float\n",
        "Exam_Result= True #True /False Bool\n",
        "\n",
        "\n",
        "Mail=\" Sai123@gmail.com\"\n",
        "#Adhar # Int\n",
        "#Pan # String\n",
        "#Bank Acc  # Int\n",
        "Ip = \"169.567.68.58\"\n",
        "\n",
        "Passport=None"
      ]
    },
    {
      "cell_type": "code",
      "execution_count": null,
      "id": "12e7b2dc",
      "metadata": {
        "colab": {
          "base_uri": "https://localhost:8080/"
        },
        "id": "12e7b2dc",
        "outputId": "39aca7ad-820c-44fb-bfb0-5ea8e060fdb5"
      },
      "outputs": [
        {
          "output_type": "stream",
          "name": "stdout",
          "text": [
            "None\n"
          ]
        }
      ],
      "source": [
        "print(Passport)"
      ]
    },
    {
      "cell_type": "markdown",
      "id": "1e09056d",
      "metadata": {
        "id": "1e09056d"
      },
      "source": [
        "## Data Structure"
      ]
    },
    {
      "cell_type": "code",
      "execution_count": null,
      "id": "f5201474",
      "metadata": {
        "id": "f5201474"
      },
      "outputs": [],
      "source": [
        "# List\n",
        "# Tuple\n",
        "# Set\n",
        "# Dict\n",
        "\n",
        "\n",
        "\n"
      ]
    },
    {
      "cell_type": "code",
      "source": [
        "a=[1,2,3,4,5]\n",
        "b=[1.1,2.5,3.9,8.7]"
      ],
      "metadata": {
        "id": "rWhJASFMciS-"
      },
      "id": "rWhJASFMciS-",
      "execution_count": null,
      "outputs": []
    },
    {
      "cell_type": "markdown",
      "id": "901bacf9",
      "metadata": {
        "id": "901bacf9"
      },
      "source": [
        "## List"
      ]
    },
    {
      "cell_type": "code",
      "execution_count": null,
      "id": "a5c51cfc",
      "metadata": {
        "id": "a5c51cfc"
      },
      "outputs": [],
      "source": [
        "L=[10,\"Guvi\",3.56,True,[1,2,3,4], \"Guvi\",\"Hi MDT51\"]   # List Can Store All Data types and Data Structure, List Can Mutable , Duplicate Accepted\n",
        "\n",
        "  # 0   1      2    3      4         5.    6"
      ]
    },
    {
      "cell_type": "code",
      "source": [
        "L[-3]"
      ],
      "metadata": {
        "colab": {
          "base_uri": "https://localhost:8080/"
        },
        "id": "4nU2TwSddjG4",
        "outputId": "53b7898b-ab75-4989-a32a-7a647dd6d6dc"
      },
      "id": "4nU2TwSddjG4",
      "execution_count": null,
      "outputs": [
        {
          "output_type": "execute_result",
          "data": {
            "text/plain": [
              "[1, 2, 3, 4]"
            ]
          },
          "metadata": {},
          "execution_count": 37
        }
      ]
    },
    {
      "cell_type": "code",
      "source": [
        "#L[-5][-2]"
      ],
      "metadata": {
        "colab": {
          "base_uri": "https://localhost:8080/",
          "height": 141
        },
        "id": "uBmuRpMQeI6Y",
        "outputId": "26f2604f-3648-4621-ca46-a93f11ed8b3d"
      },
      "id": "uBmuRpMQeI6Y",
      "execution_count": null,
      "outputs": [
        {
          "output_type": "error",
          "ename": "TypeError",
          "evalue": "'float' object is not subscriptable",
          "traceback": [
            "\u001b[0;31m---------------------------------------------------------------------------\u001b[0m",
            "\u001b[0;31mTypeError\u001b[0m                                 Traceback (most recent call last)",
            "\u001b[0;32m<ipython-input-38-bf75cdd35324>\u001b[0m in \u001b[0;36m<cell line: 0>\u001b[0;34m()\u001b[0m\n\u001b[0;32m----> 1\u001b[0;31m \u001b[0mL\u001b[0m\u001b[0;34m[\u001b[0m\u001b[0;34m-\u001b[0m\u001b[0;36m5\u001b[0m\u001b[0;34m]\u001b[0m\u001b[0;34m[\u001b[0m\u001b[0;34m-\u001b[0m\u001b[0;36m2\u001b[0m\u001b[0;34m]\u001b[0m\u001b[0;34m\u001b[0m\u001b[0;34m\u001b[0m\u001b[0m\n\u001b[0m",
            "\u001b[0;31mTypeError\u001b[0m: 'float' object is not subscriptable"
          ]
        }
      ]
    },
    {
      "cell_type": "code",
      "source": [
        "L[-2][-4]"
      ],
      "metadata": {
        "colab": {
          "base_uri": "https://localhost:8080/",
          "height": 35
        },
        "id": "ucaS5QKydnuR",
        "outputId": "ddf76a25-6d1d-413c-ee38-b9a5841bec22"
      },
      "id": "ucaS5QKydnuR",
      "execution_count": null,
      "outputs": [
        {
          "output_type": "execute_result",
          "data": {
            "text/plain": [
              "'G'"
            ],
            "application/vnd.google.colaboratory.intrinsic+json": {
              "type": "string"
            }
          },
          "metadata": {},
          "execution_count": 39
        }
      ]
    },
    {
      "cell_type": "code",
      "source": [
        "len(L)//2"
      ],
      "metadata": {
        "colab": {
          "base_uri": "https://localhost:8080/"
        },
        "id": "hWamLswle3qS",
        "outputId": "86579e56-883d-4c79-ea2c-e7ca7555b1fb"
      },
      "id": "hWamLswle3qS",
      "execution_count": null,
      "outputs": [
        {
          "output_type": "execute_result",
          "data": {
            "text/plain": [
              "3"
            ]
          },
          "metadata": {},
          "execution_count": 40
        }
      ]
    },
    {
      "cell_type": "code",
      "source": [
        "L[len(L)//2]"
      ],
      "metadata": {
        "colab": {
          "base_uri": "https://localhost:8080/"
        },
        "id": "lbjmV8kvdYqM",
        "outputId": "0a8dca73-7748-4a11-b8ef-ef9895dfa62d"
      },
      "id": "lbjmV8kvdYqM",
      "execution_count": null,
      "outputs": [
        {
          "output_type": "execute_result",
          "data": {
            "text/plain": [
              "True"
            ]
          },
          "metadata": {},
          "execution_count": 41
        }
      ]
    },
    {
      "cell_type": "code",
      "source": [
        "L[len(L)//2:]"
      ],
      "metadata": {
        "colab": {
          "base_uri": "https://localhost:8080/"
        },
        "id": "Hr8cans-foQt",
        "outputId": "18e2de20-d82f-4efe-dfba-d262e3c2703d"
      },
      "id": "Hr8cans-foQt",
      "execution_count": null,
      "outputs": [
        {
          "output_type": "execute_result",
          "data": {
            "text/plain": [
              "[True, [1, 2, 3, 4], 'Guvi', 'Hi MDT51']"
            ]
          },
          "metadata": {},
          "execution_count": 42
        }
      ]
    },
    {
      "cell_type": "code",
      "source": [
        "L[:len(L)//2]"
      ],
      "metadata": {
        "colab": {
          "base_uri": "https://localhost:8080/"
        },
        "id": "Ge2PWuUEfxWR",
        "outputId": "bb2f754c-337c-4d58-bfb3-3d8dd732242d"
      },
      "id": "Ge2PWuUEfxWR",
      "execution_count": null,
      "outputs": [
        {
          "output_type": "execute_result",
          "data": {
            "text/plain": [
              "[10, 'Guvi', 3.56]"
            ]
          },
          "metadata": {},
          "execution_count": 43
        }
      ]
    },
    {
      "cell_type": "code",
      "execution_count": null,
      "id": "80f5fe97",
      "metadata": {
        "colab": {
          "base_uri": "https://localhost:8080/"
        },
        "id": "80f5fe97",
        "outputId": "846afba1-cb48-41f7-adea-2711fb3a80ee"
      },
      "outputs": [
        {
          "output_type": "execute_result",
          "data": {
            "text/plain": [
              "3.56"
            ]
          },
          "metadata": {},
          "execution_count": 44
        }
      ],
      "source": [
        "L[2]"
      ]
    },
    {
      "cell_type": "code",
      "execution_count": null,
      "id": "dc83b718",
      "metadata": {
        "colab": {
          "base_uri": "https://localhost:8080/",
          "height": 35
        },
        "id": "dc83b718",
        "outputId": "a1ed4bcf-a518-4246-caf5-6dde03f7653b"
      },
      "outputs": [
        {
          "output_type": "execute_result",
          "data": {
            "text/plain": [
              "'Guvi'"
            ],
            "application/vnd.google.colaboratory.intrinsic+json": {
              "type": "string"
            }
          },
          "metadata": {},
          "execution_count": 45
        }
      ],
      "source": [
        "L[1]"
      ]
    },
    {
      "cell_type": "code",
      "execution_count": null,
      "id": "bdfc8f54",
      "metadata": {
        "colab": {
          "base_uri": "https://localhost:8080/"
        },
        "id": "bdfc8f54",
        "outputId": "070fece3-8c36-4720-b884-8327cae8840d"
      },
      "outputs": [
        {
          "output_type": "execute_result",
          "data": {
            "text/plain": [
              "[1, 2, 3, 4]"
            ]
          },
          "metadata": {},
          "execution_count": 46
        }
      ],
      "source": [
        "L[4]\n"
      ]
    },
    {
      "cell_type": "code",
      "execution_count": null,
      "id": "3a11df5d",
      "metadata": {
        "colab": {
          "base_uri": "https://localhost:8080/"
        },
        "id": "3a11df5d",
        "outputId": "720a9a74-dd3b-46df-b03c-1f29f7f1c7a5"
      },
      "outputs": [
        {
          "output_type": "execute_result",
          "data": {
            "text/plain": [
              "3"
            ]
          },
          "metadata": {},
          "execution_count": 47
        }
      ],
      "source": [
        "L[4][2]"
      ]
    },
    {
      "cell_type": "code",
      "execution_count": null,
      "id": "6903489e",
      "metadata": {
        "colab": {
          "base_uri": "https://localhost:8080/",
          "height": 35
        },
        "id": "6903489e",
        "outputId": "6e5e303b-167c-4ecf-efd6-21bedc0ba185"
      },
      "outputs": [
        {
          "output_type": "execute_result",
          "data": {
            "text/plain": [
              "'Guvi'"
            ],
            "application/vnd.google.colaboratory.intrinsic+json": {
              "type": "string"
            }
          },
          "metadata": {},
          "execution_count": 48
        }
      ],
      "source": [
        "L[1]"
      ]
    },
    {
      "cell_type": "code",
      "execution_count": null,
      "id": "4fc83bd4",
      "metadata": {
        "colab": {
          "base_uri": "https://localhost:8080/",
          "height": 35
        },
        "id": "4fc83bd4",
        "outputId": "b7c2c3fa-9969-4d18-b9f4-2ad167338fa5"
      },
      "outputs": [
        {
          "output_type": "execute_result",
          "data": {
            "text/plain": [
              "'u'"
            ],
            "application/vnd.google.colaboratory.intrinsic+json": {
              "type": "string"
            }
          },
          "metadata": {},
          "execution_count": 49
        }
      ],
      "source": [
        "L[1][1]"
      ]
    },
    {
      "cell_type": "code",
      "execution_count": null,
      "id": "6eb5247e",
      "metadata": {
        "colab": {
          "base_uri": "https://localhost:8080/"
        },
        "id": "6eb5247e",
        "outputId": "b077af7f-076d-41ae-cd1b-39bddaf76f05"
      },
      "outputs": [
        {
          "output_type": "execute_result",
          "data": {
            "text/plain": [
              "[1, 2, 3, 4, 5, 6, 7, 8, 9, 10]"
            ]
          },
          "metadata": {},
          "execution_count": 50
        }
      ],
      "source": [
        "L2=[1,2,3,4,5,6,7,8,9,10]\n",
        "L2"
      ]
    },
    {
      "cell_type": "code",
      "execution_count": null,
      "id": "4df913e4",
      "metadata": {
        "colab": {
          "base_uri": "https://localhost:8080/"
        },
        "id": "4df913e4",
        "outputId": "f29422b0-5baf-413e-bd6b-99c7d736d1c9"
      },
      "outputs": [
        {
          "output_type": "execute_result",
          "data": {
            "text/plain": [
              "9"
            ]
          },
          "metadata": {},
          "execution_count": 51
        }
      ],
      "source": [
        "L2[-2]"
      ]
    },
    {
      "cell_type": "code",
      "execution_count": null,
      "id": "a4cb4eea",
      "metadata": {
        "colab": {
          "base_uri": "https://localhost:8080/"
        },
        "id": "a4cb4eea",
        "outputId": "675e6f9c-8a4b-483a-bf03-84960edfc556"
      },
      "outputs": [
        {
          "output_type": "execute_result",
          "data": {
            "text/plain": [
              "[1, 2, 3, 4, 5]"
            ]
          },
          "metadata": {},
          "execution_count": 52
        }
      ],
      "source": [
        "L2[0:5]"
      ]
    },
    {
      "cell_type": "code",
      "execution_count": null,
      "id": "3c6a871b",
      "metadata": {
        "colab": {
          "base_uri": "https://localhost:8080/"
        },
        "id": "3c6a871b",
        "outputId": "757c5981-6197-48e3-805d-6a379523249b"
      },
      "outputs": [
        {
          "output_type": "execute_result",
          "data": {
            "text/plain": [
              "[4, 5, 6, 7, 8]"
            ]
          },
          "metadata": {},
          "execution_count": 53
        }
      ],
      "source": [
        "L2[3:8]"
      ]
    },
    {
      "cell_type": "code",
      "execution_count": null,
      "id": "c2b0df9f",
      "metadata": {
        "colab": {
          "base_uri": "https://localhost:8080/"
        },
        "id": "c2b0df9f",
        "outputId": "8e82f310-cb8f-4e1a-d0c7-a87a51248c97"
      },
      "outputs": [
        {
          "output_type": "execute_result",
          "data": {
            "text/plain": [
              "[4, 6, 8]"
            ]
          },
          "metadata": {},
          "execution_count": 54
        }
      ],
      "source": [
        "L2[3:8:2]"
      ]
    },
    {
      "cell_type": "code",
      "execution_count": null,
      "id": "522efedf",
      "metadata": {
        "colab": {
          "base_uri": "https://localhost:8080/"
        },
        "id": "522efedf",
        "outputId": "65a10e0f-777f-4035-e628-19b5694b5d7c"
      },
      "outputs": [
        {
          "output_type": "execute_result",
          "data": {
            "text/plain": [
              "[4, 7]"
            ]
          },
          "metadata": {},
          "execution_count": 55
        }
      ],
      "source": [
        "L2[3:8:3]"
      ]
    },
    {
      "cell_type": "code",
      "execution_count": null,
      "id": "9912dae1",
      "metadata": {
        "colab": {
          "base_uri": "https://localhost:8080/"
        },
        "id": "9912dae1",
        "outputId": "fe77b065-4b56-4f90-e920-231b4ca85770"
      },
      "outputs": [
        {
          "output_type": "execute_result",
          "data": {
            "text/plain": [
              "['A', 'B', 'C', 'D', 'E', 'F', 'G', 'H', 'I']"
            ]
          },
          "metadata": {},
          "execution_count": 56
        }
      ],
      "source": [
        "Box=[\"A\",\"B\",\"C\",\"D\",\"E\",\"F\",\"G\",\"H\",\"I\"]\n",
        "Box"
      ]
    },
    {
      "cell_type": "code",
      "execution_count": null,
      "id": "0264645c",
      "metadata": {
        "colab": {
          "base_uri": "https://localhost:8080/"
        },
        "id": "0264645c",
        "outputId": "8b159f7a-66d8-42cb-ce7d-52f63022ba45"
      },
      "outputs": [
        {
          "output_type": "execute_result",
          "data": {
            "text/plain": [
              "9"
            ]
          },
          "metadata": {},
          "execution_count": 57
        }
      ],
      "source": [
        "len(Box)"
      ]
    },
    {
      "cell_type": "code",
      "execution_count": null,
      "id": "2698df8f",
      "metadata": {
        "colab": {
          "base_uri": "https://localhost:8080/"
        },
        "id": "2698df8f",
        "outputId": "9099d800-633c-43e4-83cc-c59a59edd2d2"
      },
      "outputs": [
        {
          "output_type": "execute_result",
          "data": {
            "text/plain": [
              "['A', 'B', 'C', 'D', 'E', 'F', 'G', 'H', 'I']"
            ]
          },
          "metadata": {},
          "execution_count": 58
        }
      ],
      "source": [
        "Box[0:9:1]  #Start Stop Step"
      ]
    },
    {
      "cell_type": "code",
      "execution_count": null,
      "id": "950af4b6",
      "metadata": {
        "colab": {
          "base_uri": "https://localhost:8080/"
        },
        "id": "950af4b6",
        "outputId": "d59c1d06-ea7a-4548-d44b-dacacaadcfc3"
      },
      "outputs": [
        {
          "output_type": "execute_result",
          "data": {
            "text/plain": [
              "['A', 'C', 'E', 'G', 'I']"
            ]
          },
          "metadata": {},
          "execution_count": 59
        }
      ],
      "source": [
        "Box[0:9:2]"
      ]
    },
    {
      "cell_type": "code",
      "execution_count": null,
      "id": "08f2a6dc",
      "metadata": {
        "colab": {
          "base_uri": "https://localhost:8080/"
        },
        "id": "08f2a6dc",
        "outputId": "8a074a45-92a0-40c8-e749-2c7f84f17cea"
      },
      "outputs": [
        {
          "output_type": "execute_result",
          "data": {
            "text/plain": [
              "['A', 'D', 'G']"
            ]
          },
          "metadata": {},
          "execution_count": 60
        }
      ],
      "source": [
        "Box[0:9:3]"
      ]
    },
    {
      "cell_type": "code",
      "execution_count": null,
      "id": "7330b034",
      "metadata": {
        "colab": {
          "base_uri": "https://localhost:8080/"
        },
        "id": "7330b034",
        "outputId": "b0ac555d-3034-40cb-d697-e4c3dba239ca"
      },
      "outputs": [
        {
          "output_type": "execute_result",
          "data": {
            "text/plain": [
              "['C', 'E', 'G']"
            ]
          },
          "metadata": {},
          "execution_count": 61
        }
      ],
      "source": [
        "Box[2:7:2]   # C , E, G"
      ]
    },
    {
      "cell_type": "code",
      "execution_count": null,
      "id": "3dbb5546",
      "metadata": {
        "colab": {
          "base_uri": "https://localhost:8080/"
        },
        "id": "3dbb5546",
        "outputId": "192d992c-d9b9-43c4-cbce-897df1e19303"
      },
      "outputs": [
        {
          "output_type": "execute_result",
          "data": {
            "text/plain": [
              "['C', 'E', 'G']"
            ]
          },
          "metadata": {},
          "execution_count": 62
        }
      ],
      "source": [
        "Box[-7:-2:2]"
      ]
    },
    {
      "cell_type": "code",
      "execution_count": null,
      "id": "75105878",
      "metadata": {
        "colab": {
          "base_uri": "https://localhost:8080/"
        },
        "id": "75105878",
        "outputId": "90b10544-0477-482c-cfd0-4ff605fa97ba"
      },
      "outputs": [
        {
          "output_type": "execute_result",
          "data": {
            "text/plain": [
              "['Apple', 'Banana', 'Grapes', 'Mango', 'Orange', 'Banana']"
            ]
          },
          "metadata": {},
          "execution_count": 85
        }
      ],
      "source": [
        "\n",
        "Fruits=['Apple','Banana','Grapes','Mango','Orange','Banana']\n",
        "Fruits\n"
      ]
    },
    {
      "cell_type": "code",
      "source": [
        "Fruits[2]='BlueBerry'"
      ],
      "metadata": {
        "id": "bHBoUEsDgREX"
      },
      "id": "bHBoUEsDgREX",
      "execution_count": null,
      "outputs": []
    },
    {
      "cell_type": "code",
      "source": [
        "Fruits"
      ],
      "metadata": {
        "colab": {
          "base_uri": "https://localhost:8080/"
        },
        "id": "vk4l9ad0gcPN",
        "outputId": "d7ac1a01-d01c-4fbc-c7a8-4521b2d0e3cd"
      },
      "id": "vk4l9ad0gcPN",
      "execution_count": null,
      "outputs": [
        {
          "output_type": "execute_result",
          "data": {
            "text/plain": [
              "['Apple', 'Banana', 'BlueBerry', 'Mango', 'Orange']"
            ]
          },
          "metadata": {},
          "execution_count": 65
        }
      ]
    },
    {
      "cell_type": "code",
      "source": [
        "Fruits.append(\"Guava\") # Add Element in Last Postion"
      ],
      "metadata": {
        "id": "vXcmefgkgdFs"
      },
      "id": "vXcmefgkgdFs",
      "execution_count": null,
      "outputs": []
    },
    {
      "cell_type": "code",
      "source": [
        "Fruits"
      ],
      "metadata": {
        "colab": {
          "base_uri": "https://localhost:8080/"
        },
        "id": "DajLdU22glw9",
        "outputId": "3edf6cd5-bd0e-418c-e1e3-11f983d23079"
      },
      "id": "DajLdU22glw9",
      "execution_count": null,
      "outputs": [
        {
          "output_type": "execute_result",
          "data": {
            "text/plain": [
              "['Apple', 'Banana', 'BlueBerry', 'Mango', 'Orange', 'Guava']"
            ]
          },
          "metadata": {},
          "execution_count": 70
        }
      ]
    },
    {
      "cell_type": "code",
      "source": [
        "Fruits.insert(1,'Grape') # Insert The Element in Particular Postion"
      ],
      "metadata": {
        "id": "0w-o8st1hOzi"
      },
      "id": "0w-o8st1hOzi",
      "execution_count": null,
      "outputs": []
    },
    {
      "cell_type": "code",
      "source": [
        "#Fruits.insert('Grape')"
      ],
      "metadata": {
        "colab": {
          "base_uri": "https://localhost:8080/",
          "height": 141
        },
        "id": "XMoT0DvFjwgp",
        "outputId": "84d5664f-5570-495b-a215-98fb11d43689"
      },
      "id": "XMoT0DvFjwgp",
      "execution_count": null,
      "outputs": [
        {
          "output_type": "error",
          "ename": "TypeError",
          "evalue": "insert expected 2 arguments, got 1",
          "traceback": [
            "\u001b[0;31m---------------------------------------------------------------------------\u001b[0m",
            "\u001b[0;31mTypeError\u001b[0m                                 Traceback (most recent call last)",
            "\u001b[0;32m<ipython-input-94-0fb82cc357ec>\u001b[0m in \u001b[0;36m<cell line: 0>\u001b[0;34m()\u001b[0m\n\u001b[0;32m----> 1\u001b[0;31m \u001b[0mFruits\u001b[0m\u001b[0;34m.\u001b[0m\u001b[0minsert\u001b[0m\u001b[0;34m(\u001b[0m\u001b[0;34m'Grape'\u001b[0m\u001b[0;34m)\u001b[0m\u001b[0;34m\u001b[0m\u001b[0;34m\u001b[0m\u001b[0m\n\u001b[0m",
            "\u001b[0;31mTypeError\u001b[0m: insert expected 2 arguments, got 1"
          ]
        }
      ]
    },
    {
      "cell_type": "code",
      "source": [
        "Fruits"
      ],
      "metadata": {
        "colab": {
          "base_uri": "https://localhost:8080/"
        },
        "id": "n8VO3BPvhfta",
        "outputId": "ddbdb4c0-1d72-48a5-aa8d-eb6c80d4d55e"
      },
      "id": "n8VO3BPvhfta",
      "execution_count": null,
      "outputs": [
        {
          "output_type": "execute_result",
          "data": {
            "text/plain": [
              "['Apple', 'Grape', 'Banana', 'BlueBerry', 'Mango', 'Orange', 'Guava']"
            ]
          },
          "metadata": {},
          "execution_count": 72
        }
      ]
    },
    {
      "cell_type": "code",
      "source": [
        "Fruits.pop()"
      ],
      "metadata": {
        "colab": {
          "base_uri": "https://localhost:8080/",
          "height": 35
        },
        "id": "QVvXeGk0hh7z",
        "outputId": "6aef23a3-34c9-4624-d201-719cc1479687"
      },
      "id": "QVvXeGk0hh7z",
      "execution_count": null,
      "outputs": [
        {
          "output_type": "execute_result",
          "data": {
            "text/plain": [
              "'Guava'"
            ],
            "application/vnd.google.colaboratory.intrinsic+json": {
              "type": "string"
            }
          },
          "metadata": {},
          "execution_count": 73
        }
      ]
    },
    {
      "cell_type": "code",
      "source": [
        "Fruits"
      ],
      "metadata": {
        "colab": {
          "base_uri": "https://localhost:8080/"
        },
        "id": "xg0fwRhVhuM9",
        "outputId": "03af3447-9adf-4516-cf20-bce526cf6c76"
      },
      "id": "xg0fwRhVhuM9",
      "execution_count": null,
      "outputs": [
        {
          "output_type": "execute_result",
          "data": {
            "text/plain": [
              "['Apple', 'Banana', 'Grapes', 'Mango', 'Orange', 'Banana']"
            ]
          },
          "metadata": {},
          "execution_count": 86
        }
      ]
    },
    {
      "cell_type": "code",
      "source": [
        "Fruits.remove('Banana') # Remove the particular Element"
      ],
      "metadata": {
        "id": "gcUXiLhkhvt1"
      },
      "id": "gcUXiLhkhvt1",
      "execution_count": null,
      "outputs": []
    },
    {
      "cell_type": "code",
      "source": [
        "Fruits"
      ],
      "metadata": {
        "colab": {
          "base_uri": "https://localhost:8080/"
        },
        "id": "6KtKTYuch5QK",
        "outputId": "f5b548af-3b84-46d2-f4ad-ebf27cc13b93"
      },
      "id": "6KtKTYuch5QK",
      "execution_count": null,
      "outputs": [
        {
          "output_type": "execute_result",
          "data": {
            "text/plain": [
              "['Apple', 'Grapes', 'Mango', 'Orange', 'Banana']"
            ]
          },
          "metadata": {},
          "execution_count": 89
        }
      ]
    },
    {
      "cell_type": "code",
      "source": [
        "Fruits.pop() # Remove the Last element\n",
        "Fruits"
      ],
      "metadata": {
        "colab": {
          "base_uri": "https://localhost:8080/"
        },
        "id": "hZRK41hth-7y",
        "outputId": "240a9184-d38a-4d8d-cc76-e7bc299995d7"
      },
      "id": "hZRK41hth-7y",
      "execution_count": null,
      "outputs": [
        {
          "output_type": "execute_result",
          "data": {
            "text/plain": [
              "['Apple', 'Grapes', 'Mango', 'Orange']"
            ]
          },
          "metadata": {},
          "execution_count": 90
        }
      ]
    },
    {
      "cell_type": "code",
      "source": [
        "Fruits.clear() # Remove all Elements"
      ],
      "metadata": {
        "id": "1eebyPdTjIrl"
      },
      "id": "1eebyPdTjIrl",
      "execution_count": null,
      "outputs": []
    },
    {
      "cell_type": "code",
      "source": [
        "Fruits"
      ],
      "metadata": {
        "colab": {
          "base_uri": "https://localhost:8080/"
        },
        "id": "ggQ8n1smjU8T",
        "outputId": "ed5140e1-49c7-44aa-e87c-f1d8b176d1b4"
      },
      "id": "ggQ8n1smjU8T",
      "execution_count": null,
      "outputs": [
        {
          "output_type": "execute_result",
          "data": {
            "text/plain": [
              "[]"
            ]
          },
          "metadata": {},
          "execution_count": 92
        }
      ]
    },
    {
      "cell_type": "code",
      "source": [
        "Fruits=['Apple','Banana','Grapes','Mango','Orange','Banana']\n",
        "Fruits"
      ],
      "metadata": {
        "colab": {
          "base_uri": "https://localhost:8080/"
        },
        "id": "5neCLUoKjV-v",
        "outputId": "7402daef-b576-4023-cfcf-fdb0a78f0014"
      },
      "id": "5neCLUoKjV-v",
      "execution_count": null,
      "outputs": [
        {
          "output_type": "execute_result",
          "data": {
            "text/plain": [
              "['Apple', 'Banana', 'Grapes', 'Mango', 'Orange', 'Banana']"
            ]
          },
          "metadata": {},
          "execution_count": 93
        }
      ]
    },
    {
      "cell_type": "code",
      "source": [
        "Fruits.count('Banana') # Count the Number of Given Element"
      ],
      "metadata": {
        "colab": {
          "base_uri": "https://localhost:8080/"
        },
        "id": "5y9tXlb-jYJ_",
        "outputId": "4f062e05-f5a9-4b0d-fa15-cea90045f4a2"
      },
      "id": "5y9tXlb-jYJ_",
      "execution_count": null,
      "outputs": [
        {
          "output_type": "execute_result",
          "data": {
            "text/plain": [
              "2"
            ]
          },
          "metadata": {},
          "execution_count": 95
        }
      ]
    },
    {
      "cell_type": "code",
      "source": [
        "Fruits.count('Apple')"
      ],
      "metadata": {
        "colab": {
          "base_uri": "https://localhost:8080/"
        },
        "id": "H0y9OZFbkxxl",
        "outputId": "042b5176-0cec-4509-8c1b-5962f219120d"
      },
      "id": "H0y9OZFbkxxl",
      "execution_count": null,
      "outputs": [
        {
          "output_type": "execute_result",
          "data": {
            "text/plain": [
              "1"
            ]
          },
          "metadata": {},
          "execution_count": 96
        }
      ]
    },
    {
      "cell_type": "code",
      "source": [
        "Fruits.count('apple')"
      ],
      "metadata": {
        "colab": {
          "base_uri": "https://localhost:8080/"
        },
        "id": "xvA9CwrZk3Ez",
        "outputId": "6c75b937-e1ed-41cb-cee8-99c2e2ee0604"
      },
      "id": "xvA9CwrZk3Ez",
      "execution_count": null,
      "outputs": [
        {
          "output_type": "execute_result",
          "data": {
            "text/plain": [
              "0"
            ]
          },
          "metadata": {},
          "execution_count": 98
        }
      ]
    },
    {
      "cell_type": "code",
      "source": [
        "Fruits.index('Grapes') # Find the Index of Given Element"
      ],
      "metadata": {
        "colab": {
          "base_uri": "https://localhost:8080/"
        },
        "id": "kqfJkxbulQg5",
        "outputId": "222f89c1-dbc5-403c-885a-2a624cd37982"
      },
      "id": "kqfJkxbulQg5",
      "execution_count": null,
      "outputs": [
        {
          "output_type": "execute_result",
          "data": {
            "text/plain": [
              "2"
            ]
          },
          "metadata": {},
          "execution_count": 99
        }
      ]
    },
    {
      "cell_type": "code",
      "source": [
        "Fruits.index('Banana') # Index will give first occurance element"
      ],
      "metadata": {
        "colab": {
          "base_uri": "https://localhost:8080/"
        },
        "id": "g3eTbr0nlvD0",
        "outputId": "317e9481-b309-4ead-9e58-1be07848684e"
      },
      "id": "g3eTbr0nlvD0",
      "execution_count": null,
      "outputs": [
        {
          "output_type": "execute_result",
          "data": {
            "text/plain": [
              "1"
            ]
          },
          "metadata": {},
          "execution_count": 102
        }
      ]
    },
    {
      "cell_type": "code",
      "source": [
        "dir(list)"
      ],
      "metadata": {
        "colab": {
          "base_uri": "https://localhost:8080/"
        },
        "id": "P7iSvMU0l0E5",
        "outputId": "3200064a-b5d8-4c4b-95b4-222662fec5d8"
      },
      "id": "P7iSvMU0l0E5",
      "execution_count": null,
      "outputs": [
        {
          "output_type": "execute_result",
          "data": {
            "text/plain": [
              "['__add__',\n",
              " '__class__',\n",
              " '__class_getitem__',\n",
              " '__contains__',\n",
              " '__delattr__',\n",
              " '__delitem__',\n",
              " '__dir__',\n",
              " '__doc__',\n",
              " '__eq__',\n",
              " '__format__',\n",
              " '__ge__',\n",
              " '__getattribute__',\n",
              " '__getitem__',\n",
              " '__getstate__',\n",
              " '__gt__',\n",
              " '__hash__',\n",
              " '__iadd__',\n",
              " '__imul__',\n",
              " '__init__',\n",
              " '__init_subclass__',\n",
              " '__iter__',\n",
              " '__le__',\n",
              " '__len__',\n",
              " '__lt__',\n",
              " '__mul__',\n",
              " '__ne__',\n",
              " '__new__',\n",
              " '__reduce__',\n",
              " '__reduce_ex__',\n",
              " '__repr__',\n",
              " '__reversed__',\n",
              " '__rmul__',\n",
              " '__setattr__',\n",
              " '__setitem__',\n",
              " '__sizeof__',\n",
              " '__str__',\n",
              " '__subclasshook__',\n",
              " 'append',\n",
              " 'clear',\n",
              " 'copy',\n",
              " 'count',\n",
              " 'extend',\n",
              " 'index',\n",
              " 'insert',\n",
              " 'pop',\n",
              " 'remove',\n",
              " 'reverse',\n",
              " 'sort']"
            ]
          },
          "metadata": {},
          "execution_count": 1
        }
      ]
    },
    {
      "cell_type": "code",
      "source": [
        "# Append  --> Add Element at end of the list\n",
        "# Clear.  --> Remove All the Elements from the List\n",
        "# Copy.   --> Take Copy of Orginal List To Avoid Any Changes in orginal List\n",
        "# Count.  --> Count The Number of Occurance of Given Element\n",
        "# Extend. --> [1,2,3,4,5].extend(['a','b','c']) = [1,2,3,4,5,'a','b','c']\n",
        "# Index.  --> This will find the index/postion of Given Element / Only First Occurance\n",
        "# Insert. --> Insert the given element in the given position (It Has Two Argument(Postion/Index , Element))\n",
        "# Pop.    --> Remove the Last element of the List\n",
        "# Remove. --> Remove the Given element from the list (Remove the First Occurance of Given Element)\n",
        "# Reverse --> Its Just Reverse the Given List\n",
        "# sort.   --> Order the Given List in Asc/ Desc"
      ],
      "metadata": {
        "id": "JGRncjIZmQvP"
      },
      "id": "JGRncjIZmQvP",
      "execution_count": null,
      "outputs": []
    },
    {
      "cell_type": "code",
      "source": [
        "Fruits=['Apple','Banana','Grapes','Mango','Orange','Banana']\n",
        "Fruits"
      ],
      "metadata": {
        "colab": {
          "base_uri": "https://localhost:8080/"
        },
        "id": "Z7Xsf5jRolNr",
        "outputId": "a4a9f407-b537-4cf5-f831-d53bf531820b"
      },
      "id": "Z7Xsf5jRolNr",
      "execution_count": null,
      "outputs": [
        {
          "output_type": "execute_result",
          "data": {
            "text/plain": [
              "['Apple', 'Banana', 'Grapes', 'Mango', 'Orange', 'Banana']"
            ]
          },
          "metadata": {},
          "execution_count": 3
        }
      ]
    },
    {
      "cell_type": "code",
      "source": [
        "Fruits.reverse()"
      ],
      "metadata": {
        "id": "lrKtK6CNopRa"
      },
      "id": "lrKtK6CNopRa",
      "execution_count": null,
      "outputs": []
    },
    {
      "cell_type": "code",
      "source": [
        "Fruits"
      ],
      "metadata": {
        "colab": {
          "base_uri": "https://localhost:8080/"
        },
        "id": "_ag7Q2zkouCb",
        "outputId": "515d0173-7d15-42f8-fa1a-3027811d3cb8"
      },
      "id": "_ag7Q2zkouCb",
      "execution_count": null,
      "outputs": [
        {
          "output_type": "execute_result",
          "data": {
            "text/plain": [
              "['Banana', 'Orange', 'Mango', 'Grapes', 'Banana', 'Apple']"
            ]
          },
          "metadata": {},
          "execution_count": 6
        }
      ]
    },
    {
      "cell_type": "code",
      "source": [
        "Fruits[::-1]"
      ],
      "metadata": {
        "colab": {
          "base_uri": "https://localhost:8080/"
        },
        "id": "ew6aKjJeowYa",
        "outputId": "e04fe06b-fafc-41ad-c10f-9bc018f29b57"
      },
      "id": "ew6aKjJeowYa",
      "execution_count": null,
      "outputs": [
        {
          "output_type": "execute_result",
          "data": {
            "text/plain": [
              "['Apple', 'Banana', 'Grapes', 'Mango', 'Orange', 'Banana']"
            ]
          },
          "metadata": {},
          "execution_count": 7
        }
      ]
    },
    {
      "cell_type": "code",
      "source": [
        "Fruits.sort()"
      ],
      "metadata": {
        "id": "dK3Zkjupo2x1"
      },
      "id": "dK3Zkjupo2x1",
      "execution_count": null,
      "outputs": []
    },
    {
      "cell_type": "code",
      "source": [
        "Fruits"
      ],
      "metadata": {
        "colab": {
          "base_uri": "https://localhost:8080/"
        },
        "id": "bcF5UTSRpA0F",
        "outputId": "c8b31bf8-f764-4f30-d9de-9ec17576bdeb"
      },
      "id": "bcF5UTSRpA0F",
      "execution_count": null,
      "outputs": [
        {
          "output_type": "execute_result",
          "data": {
            "text/plain": [
              "['Apple', 'Banana', 'Banana', 'Grapes', 'Mango', 'Orange']"
            ]
          },
          "metadata": {},
          "execution_count": 9
        }
      ]
    },
    {
      "cell_type": "code",
      "source": [
        "Fruits.sort(reverse=True)"
      ],
      "metadata": {
        "id": "7GlJXjO1pBv9"
      },
      "id": "7GlJXjO1pBv9",
      "execution_count": null,
      "outputs": []
    },
    {
      "cell_type": "code",
      "source": [
        "Fruits"
      ],
      "metadata": {
        "colab": {
          "base_uri": "https://localhost:8080/"
        },
        "id": "oKWu6_aHpJRm",
        "outputId": "0bc187e5-be2b-4126-a278-1d817dd2bd1b"
      },
      "id": "oKWu6_aHpJRm",
      "execution_count": null,
      "outputs": [
        {
          "output_type": "execute_result",
          "data": {
            "text/plain": [
              "['Orange', 'Mango', 'Grapes', 'Banana', 'Banana', 'Apple']"
            ]
          },
          "metadata": {},
          "execution_count": 11
        }
      ]
    },
    {
      "cell_type": "code",
      "source": [
        "Fruits.pop(2)"
      ],
      "metadata": {
        "colab": {
          "base_uri": "https://localhost:8080/",
          "height": 35
        },
        "id": "zte3FU0opKSp",
        "outputId": "5c5c2e1b-afed-447e-bc27-831708e07fb4"
      },
      "id": "zte3FU0opKSp",
      "execution_count": null,
      "outputs": [
        {
          "output_type": "execute_result",
          "data": {
            "text/plain": [
              "'Grapes'"
            ],
            "application/vnd.google.colaboratory.intrinsic+json": {
              "type": "string"
            }
          },
          "metadata": {},
          "execution_count": 12
        }
      ]
    },
    {
      "cell_type": "code",
      "source": [
        "Fruits"
      ],
      "metadata": {
        "colab": {
          "base_uri": "https://localhost:8080/"
        },
        "id": "Iyg6Ct-PpixT",
        "outputId": "1c54fae8-d593-45c8-c121-8b21a175c8a8"
      },
      "id": "Iyg6Ct-PpixT",
      "execution_count": null,
      "outputs": [
        {
          "output_type": "execute_result",
          "data": {
            "text/plain": [
              "['Orange', 'Mango', 'Banana', 'Banana', 'Apple']"
            ]
          },
          "metadata": {},
          "execution_count": 13
        }
      ]
    },
    {
      "cell_type": "code",
      "source": [
        "Fruits=['Apple','Banana','Grapes','Mango','Orange','Banana']\n",
        "Fruits"
      ],
      "metadata": {
        "colab": {
          "base_uri": "https://localhost:8080/"
        },
        "id": "cEypa8fLpj31",
        "outputId": "985b1295-b5cf-45b7-f4e9-930f4c749942"
      },
      "id": "cEypa8fLpj31",
      "execution_count": null,
      "outputs": [
        {
          "output_type": "execute_result",
          "data": {
            "text/plain": [
              "['Apple', 'Banana', 'Grapes', 'Mango', 'Orange', 'Banana']"
            ]
          },
          "metadata": {},
          "execution_count": 14
        }
      ]
    },
    {
      "cell_type": "code",
      "source": [
        "Fruits_Copy=Fruits.copy()"
      ],
      "metadata": {
        "id": "oW7X-sK_pzkV"
      },
      "id": "oW7X-sK_pzkV",
      "execution_count": null,
      "outputs": []
    },
    {
      "cell_type": "code",
      "source": [
        "Fruits_Copy"
      ],
      "metadata": {
        "colab": {
          "base_uri": "https://localhost:8080/"
        },
        "id": "NOUzB7e5p2tr",
        "outputId": "83846374-5af1-4241-8d57-d37c96f57021"
      },
      "id": "NOUzB7e5p2tr",
      "execution_count": null,
      "outputs": [
        {
          "output_type": "execute_result",
          "data": {
            "text/plain": [
              "['Apple', 'Banana', 'Grapes', 'Mango', 'Orange', 'Banana']"
            ]
          },
          "metadata": {},
          "execution_count": 16
        }
      ]
    },
    {
      "cell_type": "code",
      "source": [
        "Fruits_Copy.pop(2)"
      ],
      "metadata": {
        "colab": {
          "base_uri": "https://localhost:8080/",
          "height": 35
        },
        "id": "oYHVo5WVp3zX",
        "outputId": "51c58f16-092b-4549-83bb-9b3ccfd0d4a5"
      },
      "id": "oYHVo5WVp3zX",
      "execution_count": null,
      "outputs": [
        {
          "output_type": "execute_result",
          "data": {
            "text/plain": [
              "'Grapes'"
            ],
            "application/vnd.google.colaboratory.intrinsic+json": {
              "type": "string"
            }
          },
          "metadata": {},
          "execution_count": 17
        }
      ]
    },
    {
      "cell_type": "code",
      "source": [
        "Fruits_Copy"
      ],
      "metadata": {
        "colab": {
          "base_uri": "https://localhost:8080/"
        },
        "id": "Wi19luWmp8ko",
        "outputId": "183cd50f-1db4-448f-8848-13417e52844d"
      },
      "id": "Wi19luWmp8ko",
      "execution_count": null,
      "outputs": [
        {
          "output_type": "execute_result",
          "data": {
            "text/plain": [
              "['Apple', 'Banana', 'Mango', 'Orange', 'Banana']"
            ]
          },
          "metadata": {},
          "execution_count": 18
        }
      ]
    },
    {
      "cell_type": "code",
      "source": [
        "Fruits"
      ],
      "metadata": {
        "colab": {
          "base_uri": "https://localhost:8080/"
        },
        "id": "cY1knjPtp98U",
        "outputId": "3d77a54c-e22a-4f9b-cb73-669b8a016ff0"
      },
      "id": "cY1knjPtp98U",
      "execution_count": null,
      "outputs": [
        {
          "output_type": "execute_result",
          "data": {
            "text/plain": [
              "['Apple', 'Banana', 'Grapes', 'Mango', 'Orange', 'Banana']"
            ]
          },
          "metadata": {},
          "execution_count": 19
        }
      ]
    },
    {
      "cell_type": "code",
      "source": [
        "Fruits_1=Fruits"
      ],
      "metadata": {
        "id": "ilv1iKCOqACv"
      },
      "id": "ilv1iKCOqACv",
      "execution_count": null,
      "outputs": []
    },
    {
      "cell_type": "code",
      "source": [
        "Fruits_1"
      ],
      "metadata": {
        "colab": {
          "base_uri": "https://localhost:8080/"
        },
        "id": "QA1TxMnxqFpI",
        "outputId": "af710bb8-11bd-4b4d-9aac-6ea24666359e"
      },
      "id": "QA1TxMnxqFpI",
      "execution_count": null,
      "outputs": [
        {
          "output_type": "execute_result",
          "data": {
            "text/plain": [
              "['Apple', 'Banana', 'Grapes', 'Mango', 'Orange', 'Banana']"
            ]
          },
          "metadata": {},
          "execution_count": 21
        }
      ]
    },
    {
      "cell_type": "code",
      "source": [
        "Fruits_1.pop(2)"
      ],
      "metadata": {
        "colab": {
          "base_uri": "https://localhost:8080/",
          "height": 35
        },
        "id": "TfBJTWGuqGgo",
        "outputId": "21d5a05f-6ee9-4d5b-a52f-c51652b2c48f"
      },
      "id": "TfBJTWGuqGgo",
      "execution_count": null,
      "outputs": [
        {
          "output_type": "execute_result",
          "data": {
            "text/plain": [
              "'Grapes'"
            ],
            "application/vnd.google.colaboratory.intrinsic+json": {
              "type": "string"
            }
          },
          "metadata": {},
          "execution_count": 22
        }
      ]
    },
    {
      "cell_type": "code",
      "source": [
        "Fruits_1"
      ],
      "metadata": {
        "colab": {
          "base_uri": "https://localhost:8080/"
        },
        "id": "RNIwbZ7NqLkm",
        "outputId": "453f8d75-25e5-4051-ad76-ac0b3f3306ca"
      },
      "id": "RNIwbZ7NqLkm",
      "execution_count": null,
      "outputs": [
        {
          "output_type": "execute_result",
          "data": {
            "text/plain": [
              "['Apple', 'Banana', 'Mango', 'Orange', 'Banana']"
            ]
          },
          "metadata": {},
          "execution_count": 23
        }
      ]
    },
    {
      "cell_type": "code",
      "source": [
        "Fruits"
      ],
      "metadata": {
        "colab": {
          "base_uri": "https://localhost:8080/"
        },
        "id": "kMTx75ycqMiG",
        "outputId": "f775c41d-dda0-4d89-d426-793b49371fd2"
      },
      "id": "kMTx75ycqMiG",
      "execution_count": null,
      "outputs": [
        {
          "output_type": "execute_result",
          "data": {
            "text/plain": [
              "['Apple', 'Banana', 'Mango', 'Orange', 'Banana']"
            ]
          },
          "metadata": {},
          "execution_count": 24
        }
      ]
    },
    {
      "cell_type": "code",
      "source": [
        "Fruits=['Apple','Banana','Grapes','Mango','Orange','Banana']\n",
        "Fruits"
      ],
      "metadata": {
        "colab": {
          "base_uri": "https://localhost:8080/"
        },
        "id": "F2PRyaurqOo3",
        "outputId": "d1e16aae-8a87-432e-9644-52970196b097"
      },
      "id": "F2PRyaurqOo3",
      "execution_count": null,
      "outputs": [
        {
          "output_type": "execute_result",
          "data": {
            "text/plain": [
              "['Apple', 'Banana', 'Grapes', 'Mango', 'Orange', 'Banana']"
            ]
          },
          "metadata": {},
          "execution_count": 25
        }
      ]
    },
    {
      "cell_type": "code",
      "source": [
        "Veggies=['Tomato','Potato','Brinjal']\n",
        "Veggies"
      ],
      "metadata": {
        "colab": {
          "base_uri": "https://localhost:8080/"
        },
        "id": "3gqH7NBDqjAA",
        "outputId": "f923dbd7-eda2-4cfb-8563-b2a79751148a"
      },
      "id": "3gqH7NBDqjAA",
      "execution_count": null,
      "outputs": [
        {
          "output_type": "execute_result",
          "data": {
            "text/plain": [
              "['Tomato', 'Potato', 'Brinjal']"
            ]
          },
          "metadata": {},
          "execution_count": 26
        }
      ]
    },
    {
      "cell_type": "code",
      "source": [
        "Fruits.append(Veggies)\n",
        "Fruits"
      ],
      "metadata": {
        "colab": {
          "base_uri": "https://localhost:8080/"
        },
        "id": "yqnsI04GqkPh",
        "outputId": "0fc40318-3211-4b55-cf21-0db521bbbcf5"
      },
      "id": "yqnsI04GqkPh",
      "execution_count": null,
      "outputs": [
        {
          "output_type": "execute_result",
          "data": {
            "text/plain": [
              "['Apple',\n",
              " 'Banana',\n",
              " 'Grapes',\n",
              " 'Mango',\n",
              " 'Orange',\n",
              " 'Banana',\n",
              " ['Tomato', 'Potato', 'Brinjal']]"
            ]
          },
          "metadata": {},
          "execution_count": 27
        }
      ]
    },
    {
      "cell_type": "code",
      "source": [
        "Fruits=['Apple','Banana','Grapes','Mango','Orange','Banana']\n",
        "Fruits"
      ],
      "metadata": {
        "colab": {
          "base_uri": "https://localhost:8080/"
        },
        "id": "edNozLo9qpy0",
        "outputId": "080d4dd7-d980-4b19-a038-380fd49832e3"
      },
      "id": "edNozLo9qpy0",
      "execution_count": null,
      "outputs": [
        {
          "output_type": "execute_result",
          "data": {
            "text/plain": [
              "['Apple', 'Banana', 'Grapes', 'Mango', 'Orange', 'Banana']"
            ]
          },
          "metadata": {},
          "execution_count": 28
        }
      ]
    },
    {
      "cell_type": "code",
      "source": [
        "Veggies=['Tomato','Potato','Brinjal']\n",
        "Veggies"
      ],
      "metadata": {
        "colab": {
          "base_uri": "https://localhost:8080/"
        },
        "id": "u92-U6lQquHP",
        "outputId": "7d2be9c7-a1ee-4bdf-863b-edb6a454b70b"
      },
      "id": "u92-U6lQquHP",
      "execution_count": null,
      "outputs": [
        {
          "output_type": "execute_result",
          "data": {
            "text/plain": [
              "['Tomato', 'Potato', 'Brinjal']"
            ]
          },
          "metadata": {},
          "execution_count": 29
        }
      ]
    },
    {
      "cell_type": "code",
      "source": [
        "Fruits.extend(Veggies)\n",
        "Fruits"
      ],
      "metadata": {
        "colab": {
          "base_uri": "https://localhost:8080/"
        },
        "id": "0WgEcMwxqvO0",
        "outputId": "562bd6a1-d17a-4032-ebba-75e19f0f79a3"
      },
      "id": "0WgEcMwxqvO0",
      "execution_count": null,
      "outputs": [
        {
          "output_type": "execute_result",
          "data": {
            "text/plain": [
              "['Apple',\n",
              " 'Banana',\n",
              " 'Grapes',\n",
              " 'Mango',\n",
              " 'Orange',\n",
              " 'Banana',\n",
              " 'Tomato',\n",
              " 'Potato',\n",
              " 'Brinjal']"
            ]
          },
          "metadata": {},
          "execution_count": 30
        }
      ]
    },
    {
      "cell_type": "code",
      "source": [
        "Fruits_1=Fruits.copy()\n",
        "Fruits_1"
      ],
      "metadata": {
        "colab": {
          "base_uri": "https://localhost:8080/"
        },
        "id": "TN9MF05dqx9P",
        "outputId": "3961c7ee-a758-4f73-d67b-f117e1346c2d"
      },
      "id": "TN9MF05dqx9P",
      "execution_count": null,
      "outputs": [
        {
          "output_type": "execute_result",
          "data": {
            "text/plain": [
              "['Apple',\n",
              " 'Banana',\n",
              " 'Grapes',\n",
              " 'Mango',\n",
              " 'Orange',\n",
              " 'Banana',\n",
              " 'Tomato',\n",
              " 'Potato',\n",
              " 'Brinjal']"
            ]
          },
          "metadata": {},
          "execution_count": 31
        }
      ]
    },
    {
      "cell_type": "code",
      "source": [
        "Fruits_2=Fruits\n",
        "Fruits_2"
      ],
      "metadata": {
        "colab": {
          "base_uri": "https://localhost:8080/"
        },
        "id": "fJwR5zQNrXHp",
        "outputId": "3c6e1266-eab6-4d67-e977-448866689e71"
      },
      "id": "fJwR5zQNrXHp",
      "execution_count": null,
      "outputs": [
        {
          "output_type": "execute_result",
          "data": {
            "text/plain": [
              "['Apple',\n",
              " 'Banana',\n",
              " 'Grapes',\n",
              " 'Mango',\n",
              " 'Orange',\n",
              " 'Banana',\n",
              " 'Tomato',\n",
              " 'Potato',\n",
              " 'Brinjal']"
            ]
          },
          "metadata": {},
          "execution_count": 33
        }
      ]
    },
    {
      "cell_type": "code",
      "source": [
        "Fruits_1.append('Kiwi')\n",
        "print(Fruits_1)\n",
        "print(Fruits)"
      ],
      "metadata": {
        "colab": {
          "base_uri": "https://localhost:8080/"
        },
        "id": "npZvNPgxrZoD",
        "outputId": "b6978d6e-2a5d-4a11-cca7-4da88488f84a"
      },
      "id": "npZvNPgxrZoD",
      "execution_count": null,
      "outputs": [
        {
          "output_type": "stream",
          "name": "stdout",
          "text": [
            "['Apple', 'Banana', 'Grapes', 'Mango', 'Orange', 'Banana', 'Tomato', 'Potato', 'Brinjal', 'Kiwi']\n",
            "['Apple', 'Banana', 'Grapes', 'Mango', 'Orange', 'Banana', 'Tomato', 'Potato', 'Brinjal']\n"
          ]
        }
      ]
    },
    {
      "cell_type": "code",
      "source": [
        "Fruits_2.append('Kiwi')\n",
        "print(Fruits_2)\n",
        "print(Fruits)"
      ],
      "metadata": {
        "colab": {
          "base_uri": "https://localhost:8080/"
        },
        "id": "Xgu-lRNvrkga",
        "outputId": "e8f96a26-5e0b-4ee8-f0da-82889eda5328"
      },
      "id": "Xgu-lRNvrkga",
      "execution_count": null,
      "outputs": [
        {
          "output_type": "stream",
          "name": "stdout",
          "text": [
            "['Apple', 'Banana', 'Grapes', 'Mango', 'Orange', 'Banana', 'Tomato', 'Potato', 'Brinjal', 'Kiwi']\n",
            "['Apple', 'Banana', 'Grapes', 'Mango', 'Orange', 'Banana', 'Tomato', 'Potato', 'Brinjal', 'Kiwi']\n"
          ]
        }
      ]
    },
    {
      "cell_type": "markdown",
      "source": [
        "# Tuple"
      ],
      "metadata": {
        "id": "l2iPR3v8rxnx"
      },
      "id": "l2iPR3v8rxnx"
    },
    {
      "cell_type": "code",
      "source": [
        "dir(tuple)"
      ],
      "metadata": {
        "colab": {
          "base_uri": "https://localhost:8080/"
        },
        "id": "aCIe7M72rpZD",
        "outputId": "7cc057d3-5c6f-4d52-8f23-3be4f2ab1724"
      },
      "id": "aCIe7M72rpZD",
      "execution_count": null,
      "outputs": [
        {
          "output_type": "execute_result",
          "data": {
            "text/plain": [
              "['__add__',\n",
              " '__class__',\n",
              " '__class_getitem__',\n",
              " '__contains__',\n",
              " '__delattr__',\n",
              " '__dir__',\n",
              " '__doc__',\n",
              " '__eq__',\n",
              " '__format__',\n",
              " '__ge__',\n",
              " '__getattribute__',\n",
              " '__getitem__',\n",
              " '__getnewargs__',\n",
              " '__getstate__',\n",
              " '__gt__',\n",
              " '__hash__',\n",
              " '__init__',\n",
              " '__init_subclass__',\n",
              " '__iter__',\n",
              " '__le__',\n",
              " '__len__',\n",
              " '__lt__',\n",
              " '__mul__',\n",
              " '__ne__',\n",
              " '__new__',\n",
              " '__reduce__',\n",
              " '__reduce_ex__',\n",
              " '__repr__',\n",
              " '__rmul__',\n",
              " '__setattr__',\n",
              " '__sizeof__',\n",
              " '__str__',\n",
              " '__subclasshook__',\n",
              " 'count',\n",
              " 'index']"
            ]
          },
          "metadata": {},
          "execution_count": 36
        }
      ]
    },
    {
      "cell_type": "code",
      "source": [
        "Std_detail=('Rajesh',25,'EEE','III',[56,78]) # Tuple can Store Any Data Types./ Data Structure, Immutable[Cant Add, Remove Or Modify] Tuple Allow Duplicates\n",
        "\n",
        "Std_detail"
      ],
      "metadata": {
        "colab": {
          "base_uri": "https://localhost:8080/"
        },
        "id": "TrzyPi0SsqkL",
        "outputId": "7862fa6e-69ae-4de5-aaf0-73fea1a72c68"
      },
      "id": "TrzyPi0SsqkL",
      "execution_count": null,
      "outputs": [
        {
          "output_type": "execute_result",
          "data": {
            "text/plain": [
              "('Rajesh', 25, 'EEE', 'III', [56, 78])"
            ]
          },
          "metadata": {},
          "execution_count": 37
        }
      ]
    },
    {
      "cell_type": "code",
      "source": [
        "Std_detail[1]"
      ],
      "metadata": {
        "colab": {
          "base_uri": "https://localhost:8080/"
        },
        "id": "qKI7QKuytmW8",
        "outputId": "e298498d-ff17-460d-de02-0f9a1dbba7a4"
      },
      "id": "qKI7QKuytmW8",
      "execution_count": null,
      "outputs": [
        {
          "output_type": "execute_result",
          "data": {
            "text/plain": [
              "25"
            ]
          },
          "metadata": {},
          "execution_count": 38
        }
      ]
    },
    {
      "cell_type": "code",
      "source": [
        "Std_detail[1]=30"
      ],
      "metadata": {
        "colab": {
          "base_uri": "https://localhost:8080/",
          "height": 141
        },
        "id": "Ged5QNXyt0z_",
        "outputId": "d86664bf-ae44-4d92-9712-fcc89078cd8a"
      },
      "id": "Ged5QNXyt0z_",
      "execution_count": null,
      "outputs": [
        {
          "output_type": "error",
          "ename": "TypeError",
          "evalue": "'tuple' object does not support item assignment",
          "traceback": [
            "\u001b[0;31m---------------------------------------------------------------------------\u001b[0m",
            "\u001b[0;31mTypeError\u001b[0m                                 Traceback (most recent call last)",
            "\u001b[0;32m<ipython-input-39-2858a30fe2c8>\u001b[0m in \u001b[0;36m<cell line: 0>\u001b[0;34m()\u001b[0m\n\u001b[0;32m----> 1\u001b[0;31m \u001b[0mStd_detail\u001b[0m\u001b[0;34m[\u001b[0m\u001b[0;36m1\u001b[0m\u001b[0;34m]\u001b[0m\u001b[0;34m=\u001b[0m\u001b[0;36m30\u001b[0m\u001b[0;34m\u001b[0m\u001b[0;34m\u001b[0m\u001b[0m\n\u001b[0m",
            "\u001b[0;31mTypeError\u001b[0m: 'tuple' object does not support item assignment"
          ]
        }
      ]
    },
    {
      "cell_type": "code",
      "source": [
        "Std_detail[4][1]=65"
      ],
      "metadata": {
        "id": "yobLShHEt4QV"
      },
      "id": "yobLShHEt4QV",
      "execution_count": null,
      "outputs": []
    },
    {
      "cell_type": "code",
      "source": [
        "Std_detail"
      ],
      "metadata": {
        "colab": {
          "base_uri": "https://localhost:8080/"
        },
        "id": "lJAzC3_SuCH5",
        "outputId": "dd939185-9996-49dc-f6a6-b750ca4d59be"
      },
      "id": "lJAzC3_SuCH5",
      "execution_count": null,
      "outputs": [
        {
          "output_type": "execute_result",
          "data": {
            "text/plain": [
              "('Rajesh', 25, 'EEE', 'III', [56, 65])"
            ]
          },
          "metadata": {},
          "execution_count": 42
        }
      ]
    },
    {
      "cell_type": "code",
      "source": [
        "Std_detail.index('EEE')"
      ],
      "metadata": {
        "colab": {
          "base_uri": "https://localhost:8080/"
        },
        "id": "OiKQNc5cuHc7",
        "outputId": "e60ef035-08f6-4d89-909e-788c13b8ad80"
      },
      "id": "OiKQNc5cuHc7",
      "execution_count": null,
      "outputs": [
        {
          "output_type": "execute_result",
          "data": {
            "text/plain": [
              "2"
            ]
          },
          "metadata": {},
          "execution_count": 43
        }
      ]
    },
    {
      "cell_type": "code",
      "source": [
        "Std_detail.count('EEE')"
      ],
      "metadata": {
        "colab": {
          "base_uri": "https://localhost:8080/"
        },
        "id": "XXGfccM1uTV6",
        "outputId": "9f38b7c9-c5f0-4407-e41b-6698a6666692"
      },
      "id": "XXGfccM1uTV6",
      "execution_count": null,
      "outputs": [
        {
          "output_type": "execute_result",
          "data": {
            "text/plain": [
              "1"
            ]
          },
          "metadata": {},
          "execution_count": 44
        }
      ]
    },
    {
      "cell_type": "code",
      "source": [
        "Current_std=[('Rajesh','EEE','EEE22'),'II','B']\n",
        "\n",
        "\n",
        "Pass_Out_std=('Rajesh','EEE',2024, 'A')\n"
      ],
      "metadata": {
        "id": "xb0UXWzruXGE"
      },
      "id": "xb0UXWzruXGE",
      "execution_count": null,
      "outputs": []
    },
    {
      "cell_type": "markdown",
      "source": [
        "# Set"
      ],
      "metadata": {
        "id": "3av8ZuMvwR9O"
      },
      "id": "3av8ZuMvwR9O"
    },
    {
      "cell_type": "code",
      "source": [
        "set1= {1,2,3,4,5,6,7,8,9,10,1,5,6,8,10,('a','b','c')} # Set will not allow Duplicates, Mutable , unorder, Can't Able to access element\n",
        "set1"
      ],
      "metadata": {
        "colab": {
          "base_uri": "https://localhost:8080/"
        },
        "id": "Q98CMisbwTu6",
        "outputId": "161527da-06ad-41e6-a05f-3f6c0aa96aa2"
      },
      "id": "Q98CMisbwTu6",
      "execution_count": null,
      "outputs": [
        {
          "output_type": "execute_result",
          "data": {
            "text/plain": [
              "{('a', 'b', 'c'), 1, 10, 2, 3, 4, 5, 6, 7, 8, 9}"
            ]
          },
          "metadata": {},
          "execution_count": 49
        }
      ]
    },
    {
      "cell_type": "code",
      "source": [
        "dir(set)"
      ],
      "metadata": {
        "colab": {
          "base_uri": "https://localhost:8080/"
        },
        "id": "3UYmPtDtwmZ0",
        "outputId": "f0b21f83-3e11-4627-a35e-a7a116a546c5"
      },
      "id": "3UYmPtDtwmZ0",
      "execution_count": null,
      "outputs": [
        {
          "output_type": "execute_result",
          "data": {
            "text/plain": [
              "['__and__',\n",
              " '__class__',\n",
              " '__class_getitem__',\n",
              " '__contains__',\n",
              " '__delattr__',\n",
              " '__dir__',\n",
              " '__doc__',\n",
              " '__eq__',\n",
              " '__format__',\n",
              " '__ge__',\n",
              " '__getattribute__',\n",
              " '__getstate__',\n",
              " '__gt__',\n",
              " '__hash__',\n",
              " '__iand__',\n",
              " '__init__',\n",
              " '__init_subclass__',\n",
              " '__ior__',\n",
              " '__isub__',\n",
              " '__iter__',\n",
              " '__ixor__',\n",
              " '__le__',\n",
              " '__len__',\n",
              " '__lt__',\n",
              " '__ne__',\n",
              " '__new__',\n",
              " '__or__',\n",
              " '__rand__',\n",
              " '__reduce__',\n",
              " '__reduce_ex__',\n",
              " '__repr__',\n",
              " '__ror__',\n",
              " '__rsub__',\n",
              " '__rxor__',\n",
              " '__setattr__',\n",
              " '__sizeof__',\n",
              " '__str__',\n",
              " '__sub__',\n",
              " '__subclasshook__',\n",
              " '__xor__',\n",
              " 'add',\n",
              " 'clear',\n",
              " 'copy',\n",
              " 'difference',\n",
              " 'difference_update',\n",
              " 'discard',\n",
              " 'intersection',\n",
              " 'intersection_update',\n",
              " 'isdisjoint',\n",
              " 'issubset',\n",
              " 'issuperset',\n",
              " 'pop',\n",
              " 'remove',\n",
              " 'symmetric_difference',\n",
              " 'symmetric_difference_update',\n",
              " 'union',\n",
              " 'update']"
            ]
          },
          "metadata": {},
          "execution_count": 48
        }
      ]
    },
    {
      "cell_type": "code",
      "source": [
        "set1[1]"
      ],
      "metadata": {
        "colab": {
          "base_uri": "https://localhost:8080/",
          "height": 141
        },
        "id": "6crsKrP9xBOB",
        "outputId": "9f1f3d02-f1ff-4024-bba2-6325997fb34d"
      },
      "id": "6crsKrP9xBOB",
      "execution_count": null,
      "outputs": [
        {
          "output_type": "error",
          "ename": "TypeError",
          "evalue": "'set' object is not subscriptable",
          "traceback": [
            "\u001b[0;31m---------------------------------------------------------------------------\u001b[0m",
            "\u001b[0;31mTypeError\u001b[0m                                 Traceback (most recent call last)",
            "\u001b[0;32m<ipython-input-50-d27c0eee2e56>\u001b[0m in \u001b[0;36m<cell line: 0>\u001b[0;34m()\u001b[0m\n\u001b[0;32m----> 1\u001b[0;31m \u001b[0mset1\u001b[0m\u001b[0;34m[\u001b[0m\u001b[0;36m1\u001b[0m\u001b[0;34m]\u001b[0m\u001b[0;34m\u001b[0m\u001b[0;34m\u001b[0m\u001b[0m\n\u001b[0m",
            "\u001b[0;31mTypeError\u001b[0m: 'set' object is not subscriptable"
          ]
        }
      ]
    },
    {
      "cell_type": "code",
      "source": [
        "Set_fruits={'Apple','Banana','Grapes','Mango','Orange','Banana'}\n",
        "Set_fruits"
      ],
      "metadata": {
        "colab": {
          "base_uri": "https://localhost:8080/"
        },
        "id": "ystbVrAVxg03",
        "outputId": "7af95897-b4cf-43b4-d645-e8b634252393"
      },
      "id": "ystbVrAVxg03",
      "execution_count": null,
      "outputs": [
        {
          "output_type": "execute_result",
          "data": {
            "text/plain": [
              "{'Apple', 'Banana', 'Grapes', 'Mango', 'Orange'}"
            ]
          },
          "metadata": {},
          "execution_count": 51
        }
      ]
    },
    {
      "cell_type": "code",
      "source": [
        "# Logistc\n",
        "\n",
        "Carton=['USA','UK','UAE',\"UK\",\"UAE\",'UK','UEA',\"UK\",\"uae\",'UK','UAE',\"UK\",\"UAE\",'UK','UAE',\"UK\",\"UAE\",'JPY'] # 1000\n",
        "\n",
        "\n",
        "set(Carton)"
      ],
      "metadata": {
        "colab": {
          "base_uri": "https://localhost:8080/"
        },
        "id": "L3dSYAp0yB2I",
        "outputId": "9f1ccc59-b881-4de4-dae1-caf81956b086"
      },
      "id": "L3dSYAp0yB2I",
      "execution_count": null,
      "outputs": [
        {
          "output_type": "execute_result",
          "data": {
            "text/plain": [
              "{'JPY', 'UAE', 'UEA', 'UK', 'USA', 'uae'}"
            ]
          },
          "metadata": {},
          "execution_count": 54
        }
      ]
    },
    {
      "cell_type": "code",
      "source": [
        "dir(set)"
      ],
      "metadata": {
        "colab": {
          "base_uri": "https://localhost:8080/"
        },
        "id": "mdAIwIjrypfr",
        "outputId": "a37a8f6e-da4c-4376-a9d3-daf24a753d2e"
      },
      "id": "mdAIwIjrypfr",
      "execution_count": null,
      "outputs": [
        {
          "output_type": "execute_result",
          "data": {
            "text/plain": [
              "['__and__',\n",
              " '__class__',\n",
              " '__class_getitem__',\n",
              " '__contains__',\n",
              " '__delattr__',\n",
              " '__dir__',\n",
              " '__doc__',\n",
              " '__eq__',\n",
              " '__format__',\n",
              " '__ge__',\n",
              " '__getattribute__',\n",
              " '__getstate__',\n",
              " '__gt__',\n",
              " '__hash__',\n",
              " '__iand__',\n",
              " '__init__',\n",
              " '__init_subclass__',\n",
              " '__ior__',\n",
              " '__isub__',\n",
              " '__iter__',\n",
              " '__ixor__',\n",
              " '__le__',\n",
              " '__len__',\n",
              " '__lt__',\n",
              " '__ne__',\n",
              " '__new__',\n",
              " '__or__',\n",
              " '__rand__',\n",
              " '__reduce__',\n",
              " '__reduce_ex__',\n",
              " '__repr__',\n",
              " '__ror__',\n",
              " '__rsub__',\n",
              " '__rxor__',\n",
              " '__setattr__',\n",
              " '__sizeof__',\n",
              " '__str__',\n",
              " '__sub__',\n",
              " '__subclasshook__',\n",
              " '__xor__',\n",
              " 'add',\n",
              " 'clear',\n",
              " 'copy',\n",
              " 'difference',\n",
              " 'difference_update',\n",
              " 'discard',\n",
              " 'intersection',\n",
              " 'intersection_update',\n",
              " 'isdisjoint',\n",
              " 'issubset',\n",
              " 'issuperset',\n",
              " 'pop',\n",
              " 'remove',\n",
              " 'symmetric_difference',\n",
              " 'symmetric_difference_update',\n",
              " 'union',\n",
              " 'update']"
            ]
          },
          "metadata": {},
          "execution_count": 55
        }
      ]
    },
    {
      "cell_type": "code",
      "source": [
        "Set_fruits={'Apple','Banana','Grapes','Mango','Orange','Banana'}\n",
        "Set_fruits"
      ],
      "metadata": {
        "colab": {
          "base_uri": "https://localhost:8080/"
        },
        "id": "ltptNVNNzOlq",
        "outputId": "e2e4ee45-3f08-4e67-d587-fd56c744b412"
      },
      "id": "ltptNVNNzOlq",
      "execution_count": null,
      "outputs": [
        {
          "output_type": "execute_result",
          "data": {
            "text/plain": [
              "{'Apple', 'Banana', 'Grapes', 'Mango', 'Orange'}"
            ]
          },
          "metadata": {},
          "execution_count": 56
        }
      ]
    },
    {
      "cell_type": "code",
      "source": [
        "Set_fruits.add('Melon')"
      ],
      "metadata": {
        "id": "5THVmML8zRG-"
      },
      "id": "5THVmML8zRG-",
      "execution_count": null,
      "outputs": []
    },
    {
      "cell_type": "code",
      "source": [
        "Set_fruits"
      ],
      "metadata": {
        "colab": {
          "base_uri": "https://localhost:8080/"
        },
        "id": "nsobADXX0PTE",
        "outputId": "40ea3fb8-1968-4e0e-f605-cde321d3b6d5"
      },
      "id": "nsobADXX0PTE",
      "execution_count": null,
      "outputs": [
        {
          "output_type": "execute_result",
          "data": {
            "text/plain": [
              "{'Apple', 'Banana', 'Grapes', 'Mango', 'Melon', 'Orange'}"
            ]
          },
          "metadata": {},
          "execution_count": 58
        }
      ]
    },
    {
      "cell_type": "code",
      "source": [
        "Set_fruits.add('Banana')"
      ],
      "metadata": {
        "id": "iNafLQpD0Qqa"
      },
      "id": "iNafLQpD0Qqa",
      "execution_count": null,
      "outputs": []
    },
    {
      "cell_type": "code",
      "source": [
        "Set_fruits"
      ],
      "metadata": {
        "colab": {
          "base_uri": "https://localhost:8080/"
        },
        "id": "rNftR9pO0e2c",
        "outputId": "d4fe77b2-607b-4664-eaa0-f6695ac290cc"
      },
      "id": "rNftR9pO0e2c",
      "execution_count": null,
      "outputs": [
        {
          "output_type": "execute_result",
          "data": {
            "text/plain": [
              "{'Apple', 'Banana', 'Grapes', 'Mango', 'Melon', 'Orange'}"
            ]
          },
          "metadata": {},
          "execution_count": 62
        }
      ]
    },
    {
      "cell_type": "code",
      "source": [
        "fruits_1={'Apple','Banana','Grapes','Mango','Orange','Banana'}\n",
        "fruits_2={'Apple','Kiwi','Mango','Orange','Melon'}"
      ],
      "metadata": {
        "id": "N-idrCzr0f6u"
      },
      "id": "N-idrCzr0f6u",
      "execution_count": null,
      "outputs": []
    },
    {
      "cell_type": "code",
      "source": [
        "fruits_1.difference(fruits_2)"
      ],
      "metadata": {
        "colab": {
          "base_uri": "https://localhost:8080/"
        },
        "id": "jVer3tNt040i",
        "outputId": "28e08f0d-0c12-4e67-edaf-3da3e53258c7"
      },
      "id": "jVer3tNt040i",
      "execution_count": null,
      "outputs": [
        {
          "output_type": "execute_result",
          "data": {
            "text/plain": [
              "{'Banana', 'Grapes'}"
            ]
          },
          "metadata": {},
          "execution_count": 64
        }
      ]
    },
    {
      "cell_type": "code",
      "source": [
        "fruits_2.difference(fruits_1)"
      ],
      "metadata": {
        "colab": {
          "base_uri": "https://localhost:8080/"
        },
        "id": "M9aBjWAG0-em",
        "outputId": "f9ffdb48-22f9-4ffa-a389-5068712e4115"
      },
      "id": "M9aBjWAG0-em",
      "execution_count": null,
      "outputs": [
        {
          "output_type": "execute_result",
          "data": {
            "text/plain": [
              "{'Kiwi', 'Melon'}"
            ]
          },
          "metadata": {},
          "execution_count": 65
        }
      ]
    },
    {
      "cell_type": "code",
      "source": [
        "Set_fruits"
      ],
      "metadata": {
        "colab": {
          "base_uri": "https://localhost:8080/"
        },
        "id": "y-4AG1ls1SD7",
        "outputId": "0c78f5f0-57bc-4a3e-eecf-d2058de78222"
      },
      "id": "y-4AG1ls1SD7",
      "execution_count": null,
      "outputs": [
        {
          "output_type": "execute_result",
          "data": {
            "text/plain": [
              "{'Apple', 'Banana', 'Grapes', 'Mango', 'Melon', 'Orange'}"
            ]
          },
          "metadata": {},
          "execution_count": 66
        }
      ]
    },
    {
      "cell_type": "code",
      "source": [
        "Set_fruits.discard('Apple') # remove the given element from the set"
      ],
      "metadata": {
        "id": "Tmzo8afJ1eI_"
      },
      "id": "Tmzo8afJ1eI_",
      "execution_count": null,
      "outputs": []
    },
    {
      "cell_type": "code",
      "source": [
        "Set_fruits"
      ],
      "metadata": {
        "colab": {
          "base_uri": "https://localhost:8080/"
        },
        "id": "iEeLyCI11gv_",
        "outputId": "1c477d94-0ad3-4001-950e-3c3876af4e13"
      },
      "id": "iEeLyCI11gv_",
      "execution_count": null,
      "outputs": [
        {
          "output_type": "execute_result",
          "data": {
            "text/plain": [
              "{'Banana', 'Grapes', 'Mango', 'Melon', 'Orange'}"
            ]
          },
          "metadata": {},
          "execution_count": 68
        }
      ]
    },
    {
      "cell_type": "code",
      "source": [
        "Set_fruits.remove('Mango')"
      ],
      "metadata": {
        "id": "cSAFltCh1h3B"
      },
      "id": "cSAFltCh1h3B",
      "execution_count": null,
      "outputs": []
    },
    {
      "cell_type": "code",
      "source": [
        "Set_fruits"
      ],
      "metadata": {
        "colab": {
          "base_uri": "https://localhost:8080/"
        },
        "id": "YTkDqK0q1wx_",
        "outputId": "f18937eb-e772-42a9-d0be-48a1f35e23c2"
      },
      "id": "YTkDqK0q1wx_",
      "execution_count": null,
      "outputs": [
        {
          "output_type": "execute_result",
          "data": {
            "text/plain": [
              "{'Banana', 'Grapes', 'Melon', 'Orange'}"
            ]
          },
          "metadata": {},
          "execution_count": 72
        }
      ]
    },
    {
      "cell_type": "code",
      "source": [
        "fruits_1={'Apple','Banana','Grapes','Mango','Orange','Banana'}\n",
        "fruits_2={'Apple','Kiwi','Mango','Orange','Melon'}"
      ],
      "metadata": {
        "id": "M4AQHrsS12c0"
      },
      "id": "M4AQHrsS12c0",
      "execution_count": null,
      "outputs": []
    },
    {
      "cell_type": "code",
      "source": [
        "fruits_1.intersection(fruits_2)"
      ],
      "metadata": {
        "colab": {
          "base_uri": "https://localhost:8080/"
        },
        "id": "_1uGKy432EM6",
        "outputId": "02b8b5fb-5665-4fe3-da0b-939766483e9d"
      },
      "id": "_1uGKy432EM6",
      "execution_count": null,
      "outputs": [
        {
          "output_type": "execute_result",
          "data": {
            "text/plain": [
              "{'Apple', 'Mango', 'Orange'}"
            ]
          },
          "metadata": {},
          "execution_count": 84
        }
      ]
    },
    {
      "cell_type": "code",
      "source": [
        "fruits_1"
      ],
      "metadata": {
        "colab": {
          "base_uri": "https://localhost:8080/"
        },
        "id": "APXB1o3A2UjU",
        "outputId": "6cd2f7c1-94a3-4009-ead8-a38f2c9edf4c"
      },
      "id": "APXB1o3A2UjU",
      "execution_count": null,
      "outputs": [
        {
          "output_type": "execute_result",
          "data": {
            "text/plain": [
              "{'Apple', 'Banana', 'Grapes', 'Mango', 'Orange'}"
            ]
          },
          "metadata": {},
          "execution_count": 85
        }
      ]
    },
    {
      "cell_type": "code",
      "source": [
        "fruits_1.intersection_update(fruits_2)"
      ],
      "metadata": {
        "id": "Pgp89RNS2Iwt"
      },
      "id": "Pgp89RNS2Iwt",
      "execution_count": null,
      "outputs": []
    },
    {
      "cell_type": "code",
      "source": [
        "fruits_1"
      ],
      "metadata": {
        "colab": {
          "base_uri": "https://localhost:8080/"
        },
        "id": "oV8oZzzU2LUD",
        "outputId": "304f2edc-7dee-4ab9-8da5-1fbe3e853542"
      },
      "id": "oV8oZzzU2LUD",
      "execution_count": null,
      "outputs": [
        {
          "output_type": "execute_result",
          "data": {
            "text/plain": [
              "{'Apple', 'Mango', 'Orange'}"
            ]
          },
          "metadata": {},
          "execution_count": 87
        }
      ]
    },
    {
      "cell_type": "code",
      "source": [
        "fruits_1={'Apple','Banana','Grapes','Mango','Orange','Banana'}\n",
        "fruits_2={'Apple','Kiwi','Mango','Orange','Melon'}"
      ],
      "metadata": {
        "id": "QMKy6jlm2Q4Q"
      },
      "id": "QMKy6jlm2Q4Q",
      "execution_count": null,
      "outputs": []
    },
    {
      "cell_type": "code",
      "source": [
        "fruits_1.isdisjoint(fruits_2)"
      ],
      "metadata": {
        "colab": {
          "base_uri": "https://localhost:8080/"
        },
        "id": "obvfxGwy3ynv",
        "outputId": "8534e710-0493-4e25-c8b1-f411a601e235"
      },
      "id": "obvfxGwy3ynv",
      "execution_count": null,
      "outputs": [
        {
          "output_type": "execute_result",
          "data": {
            "text/plain": [
              "False"
            ]
          },
          "metadata": {},
          "execution_count": 93
        }
      ]
    },
    {
      "cell_type": "code",
      "source": [
        "fruits_1={'Apple','Banana','Grapes','Mango','Orange','Banana'}\n",
        "fruits_2={'Kiwi','Melon'}\n",
        "fruits_1.isdisjoint(fruits_2)"
      ],
      "metadata": {
        "colab": {
          "base_uri": "https://localhost:8080/"
        },
        "id": "s0DJun_p31-w",
        "outputId": "6d87b0c3-b99d-46fa-9868-83f51aa6f99f"
      },
      "id": "s0DJun_p31-w",
      "execution_count": null,
      "outputs": [
        {
          "output_type": "execute_result",
          "data": {
            "text/plain": [
              "True"
            ]
          },
          "metadata": {},
          "execution_count": 95
        }
      ]
    },
    {
      "cell_type": "code",
      "source": [
        "fruits_1={'Apple','Banana','Grapes','Mango','Orange','Banana'}\n",
        "fruits_2={'Apple','Kiwi','Mango','Orange','Melon'}\n",
        "fruits_2.issubset(fruits_1)"
      ],
      "metadata": {
        "colab": {
          "base_uri": "https://localhost:8080/"
        },
        "id": "WJ8oTUS04N_5",
        "outputId": "17b2e604-6735-425e-ecae-f2e9e91fa0a5"
      },
      "id": "WJ8oTUS04N_5",
      "execution_count": null,
      "outputs": [
        {
          "output_type": "execute_result",
          "data": {
            "text/plain": [
              "False"
            ]
          },
          "metadata": {},
          "execution_count": 107
        }
      ]
    },
    {
      "cell_type": "code",
      "source": [
        "fruits_1.issubset(fruits_2)"
      ],
      "metadata": {
        "colab": {
          "base_uri": "https://localhost:8080/"
        },
        "id": "gXGZCe-Q4ghE",
        "outputId": "692696d2-4e50-4757-d8e2-c65823efce32"
      },
      "id": "gXGZCe-Q4ghE",
      "execution_count": null,
      "outputs": [
        {
          "output_type": "execute_result",
          "data": {
            "text/plain": [
              "False"
            ]
          },
          "metadata": {},
          "execution_count": 98
        }
      ]
    },
    {
      "cell_type": "code",
      "source": [
        "set_1={1,2,3,4,5,6,7,8,9,10}\n",
        "set_2={1,2,3}\n",
        "\n",
        "set_1.issubset(set_2)"
      ],
      "metadata": {
        "colab": {
          "base_uri": "https://localhost:8080/"
        },
        "id": "IqGq69UG4z-s",
        "outputId": "fe735ff1-9a33-480d-80a0-7616e232a2a6"
      },
      "id": "IqGq69UG4z-s",
      "execution_count": null,
      "outputs": [
        {
          "output_type": "execute_result",
          "data": {
            "text/plain": [
              "False"
            ]
          },
          "metadata": {},
          "execution_count": 105
        }
      ]
    },
    {
      "cell_type": "code",
      "source": [
        "set_2.issubset(set_1)"
      ],
      "metadata": {
        "colab": {
          "base_uri": "https://localhost:8080/"
        },
        "id": "6t-iFHBU5C08",
        "outputId": "9ef1dc7e-c065-40a0-9475-57c11baa1d20"
      },
      "id": "6t-iFHBU5C08",
      "execution_count": null,
      "outputs": [
        {
          "output_type": "execute_result",
          "data": {
            "text/plain": [
              "True"
            ]
          },
          "metadata": {},
          "execution_count": 106
        }
      ]
    },
    {
      "cell_type": "code",
      "source": [
        "set_1.issuperset(set_2)"
      ],
      "metadata": {
        "colab": {
          "base_uri": "https://localhost:8080/"
        },
        "id": "rJwvKij85KGZ",
        "outputId": "153e4935-f40f-4a13-ccfe-5956d96f00fb"
      },
      "id": "rJwvKij85KGZ",
      "execution_count": null,
      "outputs": [
        {
          "output_type": "execute_result",
          "data": {
            "text/plain": [
              "True"
            ]
          },
          "metadata": {},
          "execution_count": 108
        }
      ]
    },
    {
      "cell_type": "code",
      "source": [
        "set_2.issuperset(set_1)"
      ],
      "metadata": {
        "colab": {
          "base_uri": "https://localhost:8080/"
        },
        "id": "V5nRmIW_55pj",
        "outputId": "a19ac847-b20e-48d3-c9e4-3fbd9ccbebba"
      },
      "id": "V5nRmIW_55pj",
      "execution_count": null,
      "outputs": [
        {
          "output_type": "execute_result",
          "data": {
            "text/plain": [
              "False"
            ]
          },
          "metadata": {},
          "execution_count": 110
        }
      ]
    },
    {
      "cell_type": "code",
      "source": [
        "set_1.pop()"
      ],
      "metadata": {
        "colab": {
          "base_uri": "https://localhost:8080/"
        },
        "id": "Q6dKnDrb59F-",
        "outputId": "c4856ef5-e056-4bae-bebe-67cc3b15d9ff"
      },
      "id": "Q6dKnDrb59F-",
      "execution_count": null,
      "outputs": [
        {
          "output_type": "execute_result",
          "data": {
            "text/plain": [
              "1"
            ]
          },
          "metadata": {},
          "execution_count": 111
        }
      ]
    },
    {
      "cell_type": "code",
      "source": [
        "set_1"
      ],
      "metadata": {
        "colab": {
          "base_uri": "https://localhost:8080/"
        },
        "id": "stLJ72xH6aO1",
        "outputId": "9d256ca8-2d31-4d9f-cadd-6c05d28aefd1"
      },
      "id": "stLJ72xH6aO1",
      "execution_count": null,
      "outputs": [
        {
          "output_type": "execute_result",
          "data": {
            "text/plain": [
              "{2, 3, 4, 5, 6, 7, 8, 9, 10}"
            ]
          },
          "metadata": {},
          "execution_count": 113
        }
      ]
    },
    {
      "cell_type": "code",
      "source": [
        "# symmetric_difference\n",
        "\n",
        "set_1={1,2,3,4,5,6,7,8,9,10}\n",
        "set_2={1,2,3,11,12,13}\n",
        "\n",
        "set_1.symmetric_difference(set_2)\n",
        "\n"
      ],
      "metadata": {
        "colab": {
          "base_uri": "https://localhost:8080/"
        },
        "id": "iZENKYHk6c3E",
        "outputId": "a709a348-a99d-493e-d7da-d75fd8ed1b4c"
      },
      "id": "iZENKYHk6c3E",
      "execution_count": null,
      "outputs": [
        {
          "output_type": "execute_result",
          "data": {
            "text/plain": [
              "{4, 5, 6, 7, 8, 9, 10, 11, 12, 13}"
            ]
          },
          "metadata": {},
          "execution_count": 114
        }
      ]
    },
    {
      "cell_type": "code",
      "source": [
        "# symmetric_difference_update\n",
        "\n",
        "set_1={1,2,3,4,5,6,7,8,9,10}\n",
        "set_2={1,2,3,11,12,13}\n",
        "\n",
        "set_1.symmetric_difference_update(set_2)"
      ],
      "metadata": {
        "id": "da6NpAZI6up8"
      },
      "id": "da6NpAZI6up8",
      "execution_count": null,
      "outputs": []
    },
    {
      "cell_type": "code",
      "source": [
        "set_1"
      ],
      "metadata": {
        "colab": {
          "base_uri": "https://localhost:8080/"
        },
        "id": "B_LVx0nm69aD",
        "outputId": "6dc47d41-2c89-4a64-80f7-f0a764236f87"
      },
      "id": "B_LVx0nm69aD",
      "execution_count": null,
      "outputs": [
        {
          "output_type": "execute_result",
          "data": {
            "text/plain": [
              "{4, 5, 6, 7, 8, 9, 10, 11, 12, 13}"
            ]
          },
          "metadata": {},
          "execution_count": 116
        }
      ]
    },
    {
      "cell_type": "code",
      "source": [
        "# Union\n",
        "set_1={1,2,3,4,5,6,7,8,9,10}\n",
        "set_2={1,2,3,11,12,13}\n",
        "\n",
        "set_1.union(set_2)\n"
      ],
      "metadata": {
        "colab": {
          "base_uri": "https://localhost:8080/"
        },
        "id": "bgISZNOq6-85",
        "outputId": "90de74d5-b386-4315-af0d-a071d5aaeb69"
      },
      "id": "bgISZNOq6-85",
      "execution_count": null,
      "outputs": [
        {
          "output_type": "execute_result",
          "data": {
            "text/plain": [
              "{1, 2, 3, 4, 5, 6, 7, 8, 9, 10, 11, 12, 13}"
            ]
          },
          "metadata": {},
          "execution_count": 117
        }
      ]
    },
    {
      "cell_type": "code",
      "source": [
        "set_1={1,2,3,4,5,6,7,8,9,10}\n",
        "set_2={10,20,30}\n",
        "\n",
        "set_1.union(set_2)"
      ],
      "metadata": {
        "colab": {
          "base_uri": "https://localhost:8080/"
        },
        "id": "u2cMa4bl7OeD",
        "outputId": "516f79bf-371e-4017-a850-af165a9ee3f5"
      },
      "id": "u2cMa4bl7OeD",
      "execution_count": null,
      "outputs": [
        {
          "output_type": "execute_result",
          "data": {
            "text/plain": [
              "{1, 2, 3, 4, 5, 6, 7, 8, 9, 10, 20, 30}"
            ]
          },
          "metadata": {},
          "execution_count": 121
        }
      ]
    },
    {
      "cell_type": "code",
      "source": [
        "set_1"
      ],
      "metadata": {
        "colab": {
          "base_uri": "https://localhost:8080/"
        },
        "id": "Iw91Bo5u7yB0",
        "outputId": "6c14632e-5116-443e-8b5d-bdc9dfc08095"
      },
      "id": "Iw91Bo5u7yB0",
      "execution_count": null,
      "outputs": [
        {
          "output_type": "execute_result",
          "data": {
            "text/plain": [
              "{1, 2, 3, 4, 5, 6, 7, 8, 9, 10}"
            ]
          },
          "metadata": {},
          "execution_count": 122
        }
      ]
    },
    {
      "cell_type": "code",
      "source": [
        "# Update\n",
        "\n",
        "set_1={1,2,3,4,5,6,7,8,9,10}\n",
        "set_2={1,2,3,11,12,13}\n",
        "\n",
        "set_1.update(set_2)"
      ],
      "metadata": {
        "id": "W2l-PAzl7WIe"
      },
      "id": "W2l-PAzl7WIe",
      "execution_count": null,
      "outputs": []
    },
    {
      "cell_type": "code",
      "source": [
        "set_1"
      ],
      "metadata": {
        "colab": {
          "base_uri": "https://localhost:8080/"
        },
        "id": "A3QfnlQh7imX",
        "outputId": "480a0d2f-adfd-4996-988f-f2828ad74f95"
      },
      "id": "A3QfnlQh7imX",
      "execution_count": null,
      "outputs": [
        {
          "output_type": "execute_result",
          "data": {
            "text/plain": [
              "{1, 2, 3, 4, 5, 6, 7, 8, 9, 10, 11, 12, 13}"
            ]
          },
          "metadata": {},
          "execution_count": 124
        }
      ]
    },
    {
      "cell_type": "markdown",
      "source": [
        "# Dict\n",
        "\n",
        " President : \"Meaning of the president\"\n",
        "\n",
        " {Key : Value}. # Key Unique, Value Can Duplicate"
      ],
      "metadata": {
        "id": "LSwL79sY74kE"
      },
      "id": "LSwL79sY74kE"
    },
    {
      "cell_type": "code",
      "source": [
        "Emp={'Name':'Raja',\n",
        "     'Age':30,\n",
        "     'Income':30000} # It Allow Duplicate in Value But Not in Keys, Mutable, Order\n",
        "Emp"
      ],
      "metadata": {
        "colab": {
          "base_uri": "https://localhost:8080/"
        },
        "id": "PrwhhgLi7miq",
        "outputId": "c9bc954e-0807-4756-9082-876a8a55a22e"
      },
      "id": "PrwhhgLi7miq",
      "execution_count": null,
      "outputs": [
        {
          "output_type": "execute_result",
          "data": {
            "text/plain": [
              "{'Name': 'Raja', 'Age': 30, 'Income': 30000}"
            ]
          },
          "metadata": {},
          "execution_count": 132
        }
      ]
    },
    {
      "cell_type": "code",
      "source": [
        "Emp['Name']"
      ],
      "metadata": {
        "colab": {
          "base_uri": "https://localhost:8080/",
          "height": 35
        },
        "id": "xz7q0rBU-EQg",
        "outputId": "49fe0e3e-c393-47ca-d109-493a65e995ea"
      },
      "id": "xz7q0rBU-EQg",
      "execution_count": null,
      "outputs": [
        {
          "output_type": "execute_result",
          "data": {
            "text/plain": [
              "'Raja'"
            ],
            "application/vnd.google.colaboratory.intrinsic+json": {
              "type": "string"
            }
          },
          "metadata": {},
          "execution_count": 133
        }
      ]
    },
    {
      "cell_type": "code",
      "source": [
        "Emp['Mobile']=87456789"
      ],
      "metadata": {
        "id": "jxjaR-w9-XRV"
      },
      "id": "jxjaR-w9-XRV",
      "execution_count": null,
      "outputs": []
    },
    {
      "cell_type": "code",
      "source": [
        "Emp"
      ],
      "metadata": {
        "colab": {
          "base_uri": "https://localhost:8080/"
        },
        "id": "e8ztKMgo-bUO",
        "outputId": "31b7fa59-a072-489b-ce32-f930501429d1"
      },
      "id": "e8ztKMgo-bUO",
      "execution_count": null,
      "outputs": [
        {
          "output_type": "execute_result",
          "data": {
            "text/plain": [
              "{'Name': 'Raja', 'Age': 30, 'Income': 30000, 'Mobile': 87456789}"
            ]
          },
          "metadata": {},
          "execution_count": 136
        }
      ]
    },
    {
      "cell_type": "code",
      "source": [
        "Guvi_Emp={\n",
        "    'EmpID': [44,55,67,21,7,8,19,27],\n",
        "    'Name':['Rajesh','Kumar','Kamal','Saran','Karthick','Iswarya','Divya','David'],\n",
        "    'Designation':['Developer','Tester','TeamLead','Manager','Jr.Developer','Accontant','HR','Admin'],\n",
        "    'Salary': [25000,30000,45000,60000,20000,22000,15000,28000],\n",
        "\n",
        "}\n",
        "Guvi_Emp"
      ],
      "metadata": {
        "colab": {
          "base_uri": "https://localhost:8080/"
        },
        "id": "isNRiaFN-0Gw",
        "outputId": "7a3645ba-a811-43f7-decf-d9ce680e188f"
      },
      "id": "isNRiaFN-0Gw",
      "execution_count": null,
      "outputs": [
        {
          "output_type": "execute_result",
          "data": {
            "text/plain": [
              "{'EmpID': [44, 55, 67, 21, 7, 8, 19, 27],\n",
              " 'Name': ['Rajesh',\n",
              "  'Kumar',\n",
              "  'Kamal',\n",
              "  'Saran',\n",
              "  'Karthick',\n",
              "  'Iswarya',\n",
              "  'Divya',\n",
              "  'David'],\n",
              " 'Designation': ['Developer',\n",
              "  'Tester',\n",
              "  'TeamLead',\n",
              "  'Manager',\n",
              "  'Jr.Developer',\n",
              "  'Accontant',\n",
              "  'HR',\n",
              "  'Admin'],\n",
              " 'Salary': [25000, 30000, 45000, 60000, 20000, 22000, 15000, 28000]}"
            ]
          },
          "metadata": {},
          "execution_count": 157
        }
      ]
    },
    {
      "cell_type": "code",
      "source": [
        "Guvi_Emp['EmpID'].index(7)\n"
      ],
      "metadata": {
        "colab": {
          "base_uri": "https://localhost:8080/"
        },
        "id": "_COXSj5AAMUK",
        "outputId": "5bdd9cec-702c-4f17-8bc9-a1831c8b984b"
      },
      "id": "_COXSj5AAMUK",
      "execution_count": null,
      "outputs": [
        {
          "output_type": "execute_result",
          "data": {
            "text/plain": [
              "4"
            ]
          },
          "metadata": {},
          "execution_count": 158
        }
      ]
    },
    {
      "cell_type": "code",
      "source": [
        "Emp=5\n",
        "print(f\"EmpId: {Emp}\")\n"
      ],
      "metadata": {
        "colab": {
          "base_uri": "https://localhost:8080/"
        },
        "id": "KxNYop6EArNU",
        "outputId": "226dccff-2d5d-4dc3-bb40-2ef416a6413f"
      },
      "id": "KxNYop6EArNU",
      "execution_count": null,
      "outputs": [
        {
          "output_type": "stream",
          "name": "stdout",
          "text": [
            "EmpId: 5\n"
          ]
        }
      ]
    },
    {
      "cell_type": "code",
      "source": [
        "print(f\"Employee_ID----------->: {Guvi_Emp['EmpID'][4]}\")\n",
        "print(f\"Employee_Name----------->: {Guvi_Emp['Name'][4]}\")\n",
        "print(f\"Employee_Designation----------->: {Guvi_Emp['Designation'][4]}\")\n",
        "print(f\"Employee_Salary----------->: {Guvi_Emp['Salary'][4]}\")\n"
      ],
      "metadata": {
        "colab": {
          "base_uri": "https://localhost:8080/"
        },
        "id": "LYilPknwBH3e",
        "outputId": "c4540825-44f4-4c81-ea6c-80b126b34258"
      },
      "id": "LYilPknwBH3e",
      "execution_count": null,
      "outputs": [
        {
          "output_type": "stream",
          "name": "stdout",
          "text": [
            "Employee_ID----------->: 7\n",
            "Employee_Name----------->: Karthick\n",
            "Employee_Designation----------->: Jr.Developer\n",
            "Employee_Salary----------->: 20000\n"
          ]
        }
      ]
    },
    {
      "cell_type": "code",
      "source": [
        "Emp_Id=int(input(\"Enter the Emp_Id: \"))\n",
        "Emp_Id\n",
        "print(type(Emp_Id))\n"
      ],
      "metadata": {
        "id": "V8TAohE7Cfmz"
      },
      "id": "V8TAohE7Cfmz",
      "execution_count": null,
      "outputs": []
    },
    {
      "cell_type": "code",
      "source": [
        "Guvi_Emp['EmpID'].index(7)"
      ],
      "metadata": {
        "colab": {
          "base_uri": "https://localhost:8080/"
        },
        "id": "-HtKsPTyEP6r",
        "outputId": "2c9e4449-a616-43d2-dc8e-491de76d510c"
      },
      "id": "-HtKsPTyEP6r",
      "execution_count": null,
      "outputs": [
        {
          "output_type": "execute_result",
          "data": {
            "text/plain": [
              "4"
            ]
          },
          "metadata": {},
          "execution_count": 164
        }
      ]
    },
    {
      "cell_type": "code",
      "source": [
        "User_Emp_Id=int(input(\"Enter the Emp_Id: \"))\n",
        "pos=Guvi_Emp['EmpID'].index(User_Emp_Id)\n",
        "pos\n",
        "\n",
        "print(f\"Employee_ID----------->: {Guvi_Emp['EmpID'][pos]}\")\n",
        "print(f\"Employee_Name----------->: {Guvi_Emp['Name'][pos]}\")\n",
        "print(f\"Employee_Designation----------->: {Guvi_Emp['Designation'][pos]}\")\n",
        "print(f\"Employee_Salary----------->: {Guvi_Emp['Salary'][pos]}\")\n"
      ],
      "metadata": {
        "colab": {
          "base_uri": "https://localhost:8080/"
        },
        "id": "-sqV9EPHBhfg",
        "outputId": "98836365-c0fc-44bb-dbec-1c6c36c54e30"
      },
      "id": "-sqV9EPHBhfg",
      "execution_count": null,
      "outputs": [
        {
          "output_type": "stream",
          "name": "stdout",
          "text": [
            "Enter the Emp_Id: 19\n",
            "Employee_ID----------->: 19\n",
            "Employee_Name----------->: Divya\n",
            "Employee_Designation----------->: HR\n",
            "Employee_Salary----------->: 15000\n"
          ]
        }
      ]
    },
    {
      "cell_type": "code",
      "source": [
        "dir(dict)"
      ],
      "metadata": {
        "colab": {
          "base_uri": "https://localhost:8080/"
        },
        "id": "P-W9BXVLC-Pc",
        "outputId": "fed839dd-88ea-4139-a6a7-ac8b742e7f71"
      },
      "id": "P-W9BXVLC-Pc",
      "execution_count": null,
      "outputs": [
        {
          "output_type": "execute_result",
          "data": {
            "text/plain": [
              "['__class__',\n",
              " '__class_getitem__',\n",
              " '__contains__',\n",
              " '__delattr__',\n",
              " '__delitem__',\n",
              " '__dir__',\n",
              " '__doc__',\n",
              " '__eq__',\n",
              " '__format__',\n",
              " '__ge__',\n",
              " '__getattribute__',\n",
              " '__getitem__',\n",
              " '__getstate__',\n",
              " '__gt__',\n",
              " '__hash__',\n",
              " '__init__',\n",
              " '__init_subclass__',\n",
              " '__ior__',\n",
              " '__iter__',\n",
              " '__le__',\n",
              " '__len__',\n",
              " '__lt__',\n",
              " '__ne__',\n",
              " '__new__',\n",
              " '__or__',\n",
              " '__reduce__',\n",
              " '__reduce_ex__',\n",
              " '__repr__',\n",
              " '__reversed__',\n",
              " '__ror__',\n",
              " '__setattr__',\n",
              " '__setitem__',\n",
              " '__sizeof__',\n",
              " '__str__',\n",
              " '__subclasshook__',\n",
              " 'clear',\n",
              " 'copy',\n",
              " 'fromkeys',\n",
              " 'get',\n",
              " 'items',\n",
              " 'keys',\n",
              " 'pop',\n",
              " 'popitem',\n",
              " 'setdefault',\n",
              " 'update',\n",
              " 'values']"
            ]
          },
          "metadata": {},
          "execution_count": 165
        }
      ]
    },
    {
      "cell_type": "code",
      "source": [
        "# Clear\n",
        "\n",
        "Dummy={\"Name\":\"Ram\",\"Age\":25}\n",
        "\n",
        "Dummy.clear()\n",
        "Dummy\n",
        "\n"
      ],
      "metadata": {
        "colab": {
          "base_uri": "https://localhost:8080/"
        },
        "id": "uBOWU7ccE0Yh",
        "outputId": "0161d955-f21c-4229-a4e0-087d7f503e12"
      },
      "id": "uBOWU7ccE0Yh",
      "execution_count": null,
      "outputs": [
        {
          "output_type": "execute_result",
          "data": {
            "text/plain": [
              "{}"
            ]
          },
          "metadata": {},
          "execution_count": 166
        }
      ]
    },
    {
      "cell_type": "code",
      "source": [
        "# fromkeys\n",
        "\n",
        "Keys=[\"Name\",\"Age\",\"Salary\"]\n",
        "Values=None\n",
        "\n",
        "Emp=dict.fromkeys(Keys,Values)\n",
        "Emp\n",
        "\n",
        "\n"
      ],
      "metadata": {
        "colab": {
          "base_uri": "https://localhost:8080/"
        },
        "id": "wdorRWk6FE9E",
        "outputId": "b0f1163f-4619-4f8a-c1d1-3ee0ac816193"
      },
      "id": "wdorRWk6FE9E",
      "execution_count": null,
      "outputs": [
        {
          "output_type": "execute_result",
          "data": {
            "text/plain": [
              "{'Name': None, 'Age': None, 'Salary': None}"
            ]
          },
          "metadata": {},
          "execution_count": 173
        }
      ]
    },
    {
      "cell_type": "code",
      "source": [
        "# Items\n",
        "Guvi_Emp={\n",
        "    'EmpID': [44,55,67,21,7,8,19,27],\n",
        "    'Name':['Rajesh','Kumar','Kamal','Saran','Karthick','Iswarya','Divya','David'],\n",
        "    'Designation':['Developer','Tester','TeamLead','Manager','Jr.Developer','Accontant','HR','Admin'],\n",
        "    'Salary': [25000,30000,45000,60000,20000,22000,15000,28000],\n",
        "\n",
        "}\n",
        "Guvi_Emp.items()\n"
      ],
      "metadata": {
        "colab": {
          "base_uri": "https://localhost:8080/"
        },
        "id": "S2qyBgQcFum4",
        "outputId": "2fe703fb-1a67-42a3-fddb-44e9aa367cef"
      },
      "id": "S2qyBgQcFum4",
      "execution_count": null,
      "outputs": [
        {
          "output_type": "execute_result",
          "data": {
            "text/plain": [
              "dict_items([('EmpID', [44, 55, 67, 21, 7, 8, 19, 27]), ('Name', ['Rajesh', 'Kumar', 'Kamal', 'Saran', 'Karthick', 'Iswarya', 'Divya', 'David']), ('Designation', ['Developer', 'Tester', 'TeamLead', 'Manager', 'Jr.Developer', 'Accontant', 'HR', 'Admin']), ('Salary', [25000, 30000, 45000, 60000, 20000, 22000, 15000, 28000])])"
            ]
          },
          "metadata": {},
          "execution_count": 174
        }
      ]
    },
    {
      "cell_type": "code",
      "source": [
        "#Items\n",
        "Emp={'Name':'Raja',\n",
        "     'Age':30,\n",
        "     'Income':30000} # It Allow Duplicate in Value But Not in Keys, Mutable, Order\n",
        "Emp.items()"
      ],
      "metadata": {
        "colab": {
          "base_uri": "https://localhost:8080/"
        },
        "id": "E4FpwsrvGsaY",
        "outputId": "24542bb9-9dd2-4303-9023-fbf0a0021516"
      },
      "id": "E4FpwsrvGsaY",
      "execution_count": null,
      "outputs": [
        {
          "output_type": "execute_result",
          "data": {
            "text/plain": [
              "dict_items([('Name', 'Raja'), ('Age', 30), ('Income', 30000)])"
            ]
          },
          "metadata": {},
          "execution_count": 187
        }
      ]
    },
    {
      "cell_type": "code",
      "source": [
        "# Keys\n",
        "Emp={'Name':'Raja',\n",
        "     'Age':30,\n",
        "     'Income':30000} # It Allow Duplicate in Value But Not in Keys, Mutable, Order\n",
        "Emp.keys()"
      ],
      "metadata": {
        "colab": {
          "base_uri": "https://localhost:8080/"
        },
        "id": "FnnXwBg8G1Dt",
        "outputId": "9da4f53e-e279-496e-a524-7445642f4df7"
      },
      "id": "FnnXwBg8G1Dt",
      "execution_count": null,
      "outputs": [
        {
          "output_type": "execute_result",
          "data": {
            "text/plain": [
              "dict_keys(['Name', 'Age', 'Income'])"
            ]
          },
          "metadata": {},
          "execution_count": 176
        }
      ]
    },
    {
      "cell_type": "code",
      "source": [
        "# Values\n",
        "Emp={'Name':'Raja',\n",
        "     'Age':30,\n",
        "     'Income':30000} # It Allow Duplicate in Value But Not in Keys, Mutable, Order\n",
        "Emp.values()"
      ],
      "metadata": {
        "colab": {
          "base_uri": "https://localhost:8080/"
        },
        "id": "HeHlJEXiG6k2",
        "outputId": "1d458545-643c-4ce7-c495-685e3839f2dc"
      },
      "id": "HeHlJEXiG6k2",
      "execution_count": null,
      "outputs": [
        {
          "output_type": "execute_result",
          "data": {
            "text/plain": [
              "dict_values(['Raja', 30, 30000])"
            ]
          },
          "metadata": {},
          "execution_count": 186
        }
      ]
    },
    {
      "cell_type": "code",
      "source": [
        "# Get\n",
        "\n",
        "Emp.get('Name')"
      ],
      "metadata": {
        "colab": {
          "base_uri": "https://localhost:8080/",
          "height": 35
        },
        "id": "7cvmd7MeG8cK",
        "outputId": "9f5c5446-db73-4204-96de-645b47d72675"
      },
      "id": "7cvmd7MeG8cK",
      "execution_count": null,
      "outputs": [
        {
          "output_type": "execute_result",
          "data": {
            "text/plain": [
              "'Raja'"
            ],
            "application/vnd.google.colaboratory.intrinsic+json": {
              "type": "string"
            }
          },
          "metadata": {},
          "execution_count": 178
        }
      ]
    },
    {
      "cell_type": "code",
      "source": [
        "Emp['Name']"
      ],
      "metadata": {
        "colab": {
          "base_uri": "https://localhost:8080/",
          "height": 35
        },
        "id": "Vqg0f93HHY00",
        "outputId": "34473e75-8bfc-4f87-e829-ff3124dc5e70"
      },
      "id": "Vqg0f93HHY00",
      "execution_count": null,
      "outputs": [
        {
          "output_type": "execute_result",
          "data": {
            "text/plain": [
              "'Raja'"
            ],
            "application/vnd.google.colaboratory.intrinsic+json": {
              "type": "string"
            }
          },
          "metadata": {},
          "execution_count": 179
        }
      ]
    },
    {
      "cell_type": "code",
      "source": [
        "# Pop\n",
        "\n",
        "Emp.pop('Age')"
      ],
      "metadata": {
        "colab": {
          "base_uri": "https://localhost:8080/"
        },
        "id": "vvm6yJ29Hc26",
        "outputId": "b775baaf-780e-47d4-8bd3-17a99ca0430a"
      },
      "id": "vvm6yJ29Hc26",
      "execution_count": null,
      "outputs": [
        {
          "output_type": "execute_result",
          "data": {
            "text/plain": [
              "30"
            ]
          },
          "metadata": {},
          "execution_count": 181
        }
      ]
    },
    {
      "cell_type": "code",
      "source": [
        "Emp"
      ],
      "metadata": {
        "colab": {
          "base_uri": "https://localhost:8080/"
        },
        "id": "f3-64tkCHwKG",
        "outputId": "05736652-eb55-4e7b-ecf9-d17ee7d39950"
      },
      "id": "f3-64tkCHwKG",
      "execution_count": null,
      "outputs": [
        {
          "output_type": "execute_result",
          "data": {
            "text/plain": [
              "{'Name': 'Raja', 'Income': 30000}"
            ]
          },
          "metadata": {},
          "execution_count": 182
        }
      ]
    },
    {
      "cell_type": "code",
      "source": [
        "# Pop item\n",
        "\n",
        "Emp.popitem()"
      ],
      "metadata": {
        "colab": {
          "base_uri": "https://localhost:8080/"
        },
        "id": "AzKyTaPrIBvf",
        "outputId": "1177cc1f-b334-495b-b432-08c22b644b44"
      },
      "id": "AzKyTaPrIBvf",
      "execution_count": null,
      "outputs": [
        {
          "output_type": "execute_result",
          "data": {
            "text/plain": [
              "('Income', 30000)"
            ]
          },
          "metadata": {},
          "execution_count": 183
        }
      ]
    },
    {
      "cell_type": "code",
      "source": [
        "Emp"
      ],
      "metadata": {
        "colab": {
          "base_uri": "https://localhost:8080/"
        },
        "id": "5NEld8I5IKQD",
        "outputId": "c7c093b2-8137-49e1-8743-5bfa69c87984"
      },
      "id": "5NEld8I5IKQD",
      "execution_count": null,
      "outputs": [
        {
          "output_type": "execute_result",
          "data": {
            "text/plain": [
              "{'Name': 'Raja'}"
            ]
          },
          "metadata": {},
          "execution_count": 184
        }
      ]
    },
    {
      "cell_type": "code",
      "source": [
        "\n",
        "Emp.popitem()\n",
        "Emp"
      ],
      "metadata": {
        "colab": {
          "base_uri": "https://localhost:8080/"
        },
        "id": "EmAhiLmvIZvc",
        "outputId": "ec483212-80cb-4bab-c673-eb4b4e948975"
      },
      "id": "EmAhiLmvIZvc",
      "execution_count": null,
      "outputs": [
        {
          "output_type": "execute_result",
          "data": {
            "text/plain": [
              "{}"
            ]
          },
          "metadata": {},
          "execution_count": 185
        }
      ]
    },
    {
      "cell_type": "code",
      "source": [
        "Emp.popitem()\n",
        "Emp"
      ],
      "metadata": {
        "colab": {
          "base_uri": "https://localhost:8080/"
        },
        "id": "eU_GklEXIeRJ",
        "outputId": "99f9ae92-4738-4b07-d7ab-4c6b0632523a"
      },
      "id": "eU_GklEXIeRJ",
      "execution_count": null,
      "outputs": [
        {
          "output_type": "execute_result",
          "data": {
            "text/plain": [
              "{'Name': 'Raja', 'Age': 30}"
            ]
          },
          "metadata": {},
          "execution_count": 189
        }
      ]
    },
    {
      "cell_type": "code",
      "source": [
        "Emp"
      ],
      "metadata": {
        "colab": {
          "base_uri": "https://localhost:8080/"
        },
        "id": "z7OEeq7_I4Qm",
        "outputId": "e37480b5-83b0-403c-d51c-24f74da7c4e6"
      },
      "id": "z7OEeq7_I4Qm",
      "execution_count": null,
      "outputs": [
        {
          "output_type": "execute_result",
          "data": {
            "text/plain": [
              "{'Name': 'Raja', 'Age': 30}"
            ]
          },
          "metadata": {},
          "execution_count": 190
        }
      ]
    },
    {
      "cell_type": "code",
      "source": [
        "Emp['Address']=\"Kovai\""
      ],
      "metadata": {
        "id": "JaZMHs7dJUdR"
      },
      "id": "JaZMHs7dJUdR",
      "execution_count": null,
      "outputs": []
    },
    {
      "cell_type": "code",
      "source": [
        "Emp"
      ],
      "metadata": {
        "colab": {
          "base_uri": "https://localhost:8080/"
        },
        "id": "vluNbu0bJY0p",
        "outputId": "3b39105d-d408-4fb1-d924-baa043fb5c70"
      },
      "id": "vluNbu0bJY0p",
      "execution_count": null,
      "outputs": [
        {
          "output_type": "execute_result",
          "data": {
            "text/plain": [
              "{'Name': 'Raja', 'Age': 30, 'Address': 'Kovai'}"
            ]
          },
          "metadata": {},
          "execution_count": 196
        }
      ]
    },
    {
      "cell_type": "code",
      "source": [
        "# Set Default\n",
        "Emp={'Name':'Raja',\n",
        "     'Age':30,\n",
        "     'Income':30000}\n",
        "\n",
        "Emp.setdefault('Mobile',87456789)\n",
        "Emp"
      ],
      "metadata": {
        "colab": {
          "base_uri": "https://localhost:8080/"
        },
        "id": "wTQVQGeHJ4CK",
        "outputId": "a1fbdbb8-cfcf-4541-8ad0-28091ab6d8bf"
      },
      "id": "wTQVQGeHJ4CK",
      "execution_count": null,
      "outputs": [
        {
          "output_type": "execute_result",
          "data": {
            "text/plain": [
              "{'Name': 'Raja', 'Age': 30, 'Income': 30000, 'Mobile': 87456789}"
            ]
          },
          "metadata": {},
          "execution_count": 200
        }
      ]
    },
    {
      "cell_type": "code",
      "source": [
        "Emp.setdefault('Address')\n",
        "Emp"
      ],
      "metadata": {
        "colab": {
          "base_uri": "https://localhost:8080/"
        },
        "id": "aK54jFNWKLuT",
        "outputId": "985eed05-a3bb-44c3-c394-9649a93274e7"
      },
      "id": "aK54jFNWKLuT",
      "execution_count": null,
      "outputs": [
        {
          "output_type": "execute_result",
          "data": {
            "text/plain": [
              "{'Name': 'Raja',\n",
              " 'Age': 30,\n",
              " 'Income': 30000,\n",
              " 'Mobile': 87456789,\n",
              " 'Address': None}"
            ]
          },
          "metadata": {},
          "execution_count": 201
        }
      ]
    },
    {
      "cell_type": "code",
      "source": [
        "Emp['Address']='Chennai'"
      ],
      "metadata": {
        "id": "QDmKhUKhKfxx"
      },
      "id": "QDmKhUKhKfxx",
      "execution_count": null,
      "outputs": []
    },
    {
      "cell_type": "code",
      "source": [
        "Emp"
      ],
      "metadata": {
        "id": "gcE_nWJlK3wl",
        "outputId": "1c73ef4e-3e21-4b53-b1ac-e5c6c0bb2487",
        "colab": {
          "base_uri": "https://localhost:8080/"
        }
      },
      "id": "gcE_nWJlK3wl",
      "execution_count": null,
      "outputs": [
        {
          "output_type": "execute_result",
          "data": {
            "text/plain": [
              "{'Name': 'Raja',\n",
              " 'Age': 30,\n",
              " 'Income': 30000,\n",
              " 'Mobile': 87456789,\n",
              " 'Address': 'Chennai'}"
            ]
          },
          "metadata": {},
          "execution_count": 203
        }
      ]
    },
    {
      "cell_type": "code",
      "source": [],
      "metadata": {
        "id": "bV4MhRNOK4n4"
      },
      "id": "bV4MhRNOK4n4",
      "execution_count": null,
      "outputs": []
    }
  ],
  "metadata": {
    "kernelspec": {
      "display_name": ".venv",
      "language": "python",
      "name": "python3"
    },
    "language_info": {
      "codemirror_mode": {
        "name": "ipython",
        "version": 3
      },
      "file_extension": ".py",
      "mimetype": "text/x-python",
      "name": "python",
      "nbconvert_exporter": "python",
      "pygments_lexer": "ipython3",
      "version": "3.9.6"
    },
    "colab": {
      "provenance": [],
      "toc_visible": true,
      "include_colab_link": true
    }
  },
  "nbformat": 4,
  "nbformat_minor": 5
}